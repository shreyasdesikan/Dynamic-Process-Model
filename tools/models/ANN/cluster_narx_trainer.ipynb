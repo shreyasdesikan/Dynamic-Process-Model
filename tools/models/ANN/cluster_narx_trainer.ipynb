{
 "cells": [
  {
   "cell_type": "code",
   "execution_count": 1,
   "id": "6100e647",
   "metadata": {
    "scrolled": true
   },
   "outputs": [
    {
     "name": "stdout",
     "output_type": "stream",
     "text": [
      "Requirement already satisfied: pandas in c:\\users\\abualrejal\\anaconda3\\envs\\pas\\lib\\site-packages (2.2.3)\n",
      "Requirement already satisfied: numpy in c:\\users\\abualrejal\\anaconda3\\envs\\pas\\lib\\site-packages (2.0.2)\n",
      "Requirement already satisfied: scipy in c:\\users\\abualrejal\\anaconda3\\envs\\pas\\lib\\site-packages (1.13.1)\n",
      "Requirement already satisfied: scikit-learn in c:\\users\\abualrejal\\anaconda3\\envs\\pas\\lib\\site-packages (1.6.1)\n",
      "Requirement already satisfied: hdbscan in c:\\users\\abualrejal\\anaconda3\\envs\\pas\\lib\\site-packages (0.8.40)\n",
      "Requirement already satisfied: plotly in c:\\users\\abualrejal\\anaconda3\\envs\\pas\\lib\\site-packages (6.1.2)\n",
      "Requirement already satisfied: chardet in c:\\users\\abualrejal\\anaconda3\\envs\\pas\\lib\\site-packages (5.2.0)\n",
      "Requirement already satisfied: python-dateutil>=2.8.2 in c:\\users\\abualrejal\\anaconda3\\envs\\pas\\lib\\site-packages (from pandas) (2.9.0.post0)\n",
      "Requirement already satisfied: pytz>=2020.1 in c:\\users\\abualrejal\\anaconda3\\envs\\pas\\lib\\site-packages (from pandas) (2025.2)\n",
      "Requirement already satisfied: tzdata>=2022.7 in c:\\users\\abualrejal\\anaconda3\\envs\\pas\\lib\\site-packages (from pandas) (2025.2)\n",
      "Requirement already satisfied: joblib>=1.2.0 in c:\\users\\abualrejal\\anaconda3\\envs\\pas\\lib\\site-packages (from scikit-learn) (1.4.2)\n",
      "Requirement already satisfied: threadpoolctl>=3.1.0 in c:\\users\\abualrejal\\anaconda3\\envs\\pas\\lib\\site-packages (from scikit-learn) (3.6.0)\n",
      "Requirement already satisfied: narwhals>=1.15.1 in c:\\users\\abualrejal\\anaconda3\\envs\\pas\\lib\\site-packages (from plotly) (1.42.1)\n",
      "Requirement already satisfied: packaging in c:\\users\\abualrejal\\anaconda3\\envs\\pas\\lib\\site-packages (from plotly) (25.0)\n",
      "Requirement already satisfied: six>=1.5 in c:\\users\\abualrejal\\anaconda3\\envs\\pas\\lib\\site-packages (from python-dateutil>=2.8.2->pandas) (1.17.0)\n"
     ]
    }
   ],
   "source": [
    "!pip install pandas numpy scipy scikit-learn hdbscan plotly chardet"
   ]
  },
  {
   "cell_type": "code",
   "execution_count": 9,
   "id": "373f8ed4",
   "metadata": {},
   "outputs": [
    {
     "data": {
      "application/vnd.plotly.v1+json": {
       "config": {
        "plotlyServerURL": "https://plot.ly"
       },
       "data": [
        {
         "hovertemplate": "PC1 (34.7%)=%{x}<br>PC2 (22.0%)=%{y}<extra></extra>",
         "legendgroup": "",
         "marker": {
          "color": "#636efa",
          "symbol": "circle"
         },
         "mode": "markers",
         "name": "",
         "orientation": "v",
         "showlegend": false,
         "type": "scatter",
         "x": {
          "bdata": "794UWZPV4L+WExurnAvEP5sXGVkvRf8/X653KxA99z9Drg3Upu/4vxHISeE7Jfq/Ti2/9L4xAEDhB4mCi6jvP8/yxvDRIgbAaLuOyyILAEA6O+JcLJ8IQBqK9KRRmARAE5xOCeZh/T/0V3BM1X0BQMGFNi+n6QJAnCj37UrR979nEkP5psAHwAeBOPSqFwLA6xPEb8f0BMCqCq5D4pH+P5zK2CPZIQjAK2TWKP2V9791AXE4vdwAQMMsPTsYKgBAQ5TgL6+yBECpMjwYw8b+v2NRO4d5BAHAbWeq8qsS8L/JhdXjsnP3P7G+T+VxVgdAWzgQgwQi+T8Fz+Z8Vc0KwHLwK9Gcivg/TOIfqr+KB8Bxbe1HpOrxP/9KhPMPQ/q/ihpkEj1rA8BL2tZ9jkAEwA/CvEsWEAhAXOIlpZvkAkCf8I0SoPvnP3AzQ3+xxwNArBfQIYJSBECQZ/FZm+q7v2WLAOTl7gxASXZHUA/UAsAWxKa81kcAQMa/eozA4Pg/0h57XDQUA8B3Ln8YUqkKwB+6cVQI3gBAD1AjJXJZ/D8QX9OKvN0CQIn7WyHOVgDAtROxvqwvBMBUPxSmi4ABwBUUH92U0P0/qJwyMke9+b8Ksm1x4LP/P5mwXPm8P/a/dnjQd2PUC0BPBE5dhNoCwB16EyXyewhA7141tPpr8b8xlmO3kBsCwC1nzKH4cu0/Q1unYoJ19T+ov8aIZcALwHwK1AHzehDAet2cRCO48z9VhusLLHf+P3bXjIuUe9m/Po5HxPPj67+bEBYQr60CQLNJgctlyva/waKsJxal4b83ETztzpj3v0ocqN3b+Ni/Rx4pSwa0BcBU3Be/vzfqv6u0fdlB5f2/atGqJ24a979A3LWPzO77P1lAMlvvB/q/JjT5IdcF6T8=",
          "dtype": "f8"
         },
         "xaxis": "x",
         "y": {
          "bdata": "2aLbvHDlDUBSoZ6SMW0MwDJyQIfgY7u/x+2YEove8r8kTmtdvtL/P0uwpF2Gvvc/nMNcalunsj9lTfPUuGoGwNup/ET/8cS/sCcS0kJgxL+dh2B0iFoBQKPlsFDFUPI/kq5VqFnW5b8tfQwGOCfpv2lf3sVlA92/6afVvtF19z8taZdA4o7nv+/qZEEAVKW/rD9bKpKm6z8CsU9dwPXpvxTp3dmIH/S/4fXut4w//j/WfGCtgd/2vx5ggNywdu6/dYnz9ydW7D8aq39gi73GvwyrfnScB80/h5QhsWM8A0BZwyySM+/1v61KeeNC3/Q/Xv5ogsFd9r9yShdl5QPyvxGhtMD0M/K/SlSoZk5k6r8g7bBOMIf3vwehGgOBjvY/fH48N+JJ1b829JKDE7Lyv2r2RIUEqvg/GLQDCte/1D8myu4WDz8GwGB8DzuQvPY/uGtbq7iBxT+nOBXETDEHwCOVIL0CKgJAz4Kw3vY75781p3WyPPbKP62etQvHzOG/RzYeCppmzj80RLL9rjnpvz7X7oekj9G/NrQDq9gX+L/bXXfwtLrIv09/PruApPM/wfshbjGfw79VtDeSnqHTv0DO/t2JpvG/v9dA4hqk/j8hiQgORwTpv7oPrGSN/ec/v+FvQBzRAUA4bJ8QDLHiv54Qi50DtwFA3D8Unss2CUBzU9jLb+Hrv/Jt9CIIpAXAHdwZ88/U/L9F/seVQlj4v+8Cs7PbxAfAci9nChWc+r8bZ5Wbf0zov17NpgoXDw/AbPVOJhW3CkAHxXfYj5vQv/Z6aiuLcfs/YLPzKQ1dB0DiI9KPyf/1Py+gxAseUQpAM6sY3SLs7r8amGh8PaoIQKIqEXrxI+Q/lP0u6fPsAEDK4xRdetfrvy43ARkXYO0/etFJ6/lhCMA=",
          "dtype": "f8"
         },
         "yaxis": "y"
        }
       ],
       "layout": {
        "legend": {
         "tracegroupgap": 0
        },
        "template": {
         "data": {
          "bar": [
           {
            "error_x": {
             "color": "#2a3f5f"
            },
            "error_y": {
             "color": "#2a3f5f"
            },
            "marker": {
             "line": {
              "color": "#E5ECF6",
              "width": 0.5
             },
             "pattern": {
              "fillmode": "overlay",
              "size": 10,
              "solidity": 0.2
             }
            },
            "type": "bar"
           }
          ],
          "barpolar": [
           {
            "marker": {
             "line": {
              "color": "#E5ECF6",
              "width": 0.5
             },
             "pattern": {
              "fillmode": "overlay",
              "size": 10,
              "solidity": 0.2
             }
            },
            "type": "barpolar"
           }
          ],
          "carpet": [
           {
            "aaxis": {
             "endlinecolor": "#2a3f5f",
             "gridcolor": "white",
             "linecolor": "white",
             "minorgridcolor": "white",
             "startlinecolor": "#2a3f5f"
            },
            "baxis": {
             "endlinecolor": "#2a3f5f",
             "gridcolor": "white",
             "linecolor": "white",
             "minorgridcolor": "white",
             "startlinecolor": "#2a3f5f"
            },
            "type": "carpet"
           }
          ],
          "choropleth": [
           {
            "colorbar": {
             "outlinewidth": 0,
             "ticks": ""
            },
            "type": "choropleth"
           }
          ],
          "contour": [
           {
            "colorbar": {
             "outlinewidth": 0,
             "ticks": ""
            },
            "colorscale": [
             [
              0,
              "#0d0887"
             ],
             [
              0.1111111111111111,
              "#46039f"
             ],
             [
              0.2222222222222222,
              "#7201a8"
             ],
             [
              0.3333333333333333,
              "#9c179e"
             ],
             [
              0.4444444444444444,
              "#bd3786"
             ],
             [
              0.5555555555555556,
              "#d8576b"
             ],
             [
              0.6666666666666666,
              "#ed7953"
             ],
             [
              0.7777777777777778,
              "#fb9f3a"
             ],
             [
              0.8888888888888888,
              "#fdca26"
             ],
             [
              1,
              "#f0f921"
             ]
            ],
            "type": "contour"
           }
          ],
          "contourcarpet": [
           {
            "colorbar": {
             "outlinewidth": 0,
             "ticks": ""
            },
            "type": "contourcarpet"
           }
          ],
          "heatmap": [
           {
            "colorbar": {
             "outlinewidth": 0,
             "ticks": ""
            },
            "colorscale": [
             [
              0,
              "#0d0887"
             ],
             [
              0.1111111111111111,
              "#46039f"
             ],
             [
              0.2222222222222222,
              "#7201a8"
             ],
             [
              0.3333333333333333,
              "#9c179e"
             ],
             [
              0.4444444444444444,
              "#bd3786"
             ],
             [
              0.5555555555555556,
              "#d8576b"
             ],
             [
              0.6666666666666666,
              "#ed7953"
             ],
             [
              0.7777777777777778,
              "#fb9f3a"
             ],
             [
              0.8888888888888888,
              "#fdca26"
             ],
             [
              1,
              "#f0f921"
             ]
            ],
            "type": "heatmap"
           }
          ],
          "histogram": [
           {
            "marker": {
             "pattern": {
              "fillmode": "overlay",
              "size": 10,
              "solidity": 0.2
             }
            },
            "type": "histogram"
           }
          ],
          "histogram2d": [
           {
            "colorbar": {
             "outlinewidth": 0,
             "ticks": ""
            },
            "colorscale": [
             [
              0,
              "#0d0887"
             ],
             [
              0.1111111111111111,
              "#46039f"
             ],
             [
              0.2222222222222222,
              "#7201a8"
             ],
             [
              0.3333333333333333,
              "#9c179e"
             ],
             [
              0.4444444444444444,
              "#bd3786"
             ],
             [
              0.5555555555555556,
              "#d8576b"
             ],
             [
              0.6666666666666666,
              "#ed7953"
             ],
             [
              0.7777777777777778,
              "#fb9f3a"
             ],
             [
              0.8888888888888888,
              "#fdca26"
             ],
             [
              1,
              "#f0f921"
             ]
            ],
            "type": "histogram2d"
           }
          ],
          "histogram2dcontour": [
           {
            "colorbar": {
             "outlinewidth": 0,
             "ticks": ""
            },
            "colorscale": [
             [
              0,
              "#0d0887"
             ],
             [
              0.1111111111111111,
              "#46039f"
             ],
             [
              0.2222222222222222,
              "#7201a8"
             ],
             [
              0.3333333333333333,
              "#9c179e"
             ],
             [
              0.4444444444444444,
              "#bd3786"
             ],
             [
              0.5555555555555556,
              "#d8576b"
             ],
             [
              0.6666666666666666,
              "#ed7953"
             ],
             [
              0.7777777777777778,
              "#fb9f3a"
             ],
             [
              0.8888888888888888,
              "#fdca26"
             ],
             [
              1,
              "#f0f921"
             ]
            ],
            "type": "histogram2dcontour"
           }
          ],
          "mesh3d": [
           {
            "colorbar": {
             "outlinewidth": 0,
             "ticks": ""
            },
            "type": "mesh3d"
           }
          ],
          "parcoords": [
           {
            "line": {
             "colorbar": {
              "outlinewidth": 0,
              "ticks": ""
             }
            },
            "type": "parcoords"
           }
          ],
          "pie": [
           {
            "automargin": true,
            "type": "pie"
           }
          ],
          "scatter": [
           {
            "fillpattern": {
             "fillmode": "overlay",
             "size": 10,
             "solidity": 0.2
            },
            "type": "scatter"
           }
          ],
          "scatter3d": [
           {
            "line": {
             "colorbar": {
              "outlinewidth": 0,
              "ticks": ""
             }
            },
            "marker": {
             "colorbar": {
              "outlinewidth": 0,
              "ticks": ""
             }
            },
            "type": "scatter3d"
           }
          ],
          "scattercarpet": [
           {
            "marker": {
             "colorbar": {
              "outlinewidth": 0,
              "ticks": ""
             }
            },
            "type": "scattercarpet"
           }
          ],
          "scattergeo": [
           {
            "marker": {
             "colorbar": {
              "outlinewidth": 0,
              "ticks": ""
             }
            },
            "type": "scattergeo"
           }
          ],
          "scattergl": [
           {
            "marker": {
             "colorbar": {
              "outlinewidth": 0,
              "ticks": ""
             }
            },
            "type": "scattergl"
           }
          ],
          "scattermap": [
           {
            "marker": {
             "colorbar": {
              "outlinewidth": 0,
              "ticks": ""
             }
            },
            "type": "scattermap"
           }
          ],
          "scattermapbox": [
           {
            "marker": {
             "colorbar": {
              "outlinewidth": 0,
              "ticks": ""
             }
            },
            "type": "scattermapbox"
           }
          ],
          "scatterpolar": [
           {
            "marker": {
             "colorbar": {
              "outlinewidth": 0,
              "ticks": ""
             }
            },
            "type": "scatterpolar"
           }
          ],
          "scatterpolargl": [
           {
            "marker": {
             "colorbar": {
              "outlinewidth": 0,
              "ticks": ""
             }
            },
            "type": "scatterpolargl"
           }
          ],
          "scatterternary": [
           {
            "marker": {
             "colorbar": {
              "outlinewidth": 0,
              "ticks": ""
             }
            },
            "type": "scatterternary"
           }
          ],
          "surface": [
           {
            "colorbar": {
             "outlinewidth": 0,
             "ticks": ""
            },
            "colorscale": [
             [
              0,
              "#0d0887"
             ],
             [
              0.1111111111111111,
              "#46039f"
             ],
             [
              0.2222222222222222,
              "#7201a8"
             ],
             [
              0.3333333333333333,
              "#9c179e"
             ],
             [
              0.4444444444444444,
              "#bd3786"
             ],
             [
              0.5555555555555556,
              "#d8576b"
             ],
             [
              0.6666666666666666,
              "#ed7953"
             ],
             [
              0.7777777777777778,
              "#fb9f3a"
             ],
             [
              0.8888888888888888,
              "#fdca26"
             ],
             [
              1,
              "#f0f921"
             ]
            ],
            "type": "surface"
           }
          ],
          "table": [
           {
            "cells": {
             "fill": {
              "color": "#EBF0F8"
             },
             "line": {
              "color": "white"
             }
            },
            "header": {
             "fill": {
              "color": "#C8D4E3"
             },
             "line": {
              "color": "white"
             }
            },
            "type": "table"
           }
          ]
         },
         "layout": {
          "annotationdefaults": {
           "arrowcolor": "#2a3f5f",
           "arrowhead": 0,
           "arrowwidth": 1
          },
          "autotypenumbers": "strict",
          "coloraxis": {
           "colorbar": {
            "outlinewidth": 0,
            "ticks": ""
           }
          },
          "colorscale": {
           "diverging": [
            [
             0,
             "#8e0152"
            ],
            [
             0.1,
             "#c51b7d"
            ],
            [
             0.2,
             "#de77ae"
            ],
            [
             0.3,
             "#f1b6da"
            ],
            [
             0.4,
             "#fde0ef"
            ],
            [
             0.5,
             "#f7f7f7"
            ],
            [
             0.6,
             "#e6f5d0"
            ],
            [
             0.7,
             "#b8e186"
            ],
            [
             0.8,
             "#7fbc41"
            ],
            [
             0.9,
             "#4d9221"
            ],
            [
             1,
             "#276419"
            ]
           ],
           "sequential": [
            [
             0,
             "#0d0887"
            ],
            [
             0.1111111111111111,
             "#46039f"
            ],
            [
             0.2222222222222222,
             "#7201a8"
            ],
            [
             0.3333333333333333,
             "#9c179e"
            ],
            [
             0.4444444444444444,
             "#bd3786"
            ],
            [
             0.5555555555555556,
             "#d8576b"
            ],
            [
             0.6666666666666666,
             "#ed7953"
            ],
            [
             0.7777777777777778,
             "#fb9f3a"
            ],
            [
             0.8888888888888888,
             "#fdca26"
            ],
            [
             1,
             "#f0f921"
            ]
           ],
           "sequentialminus": [
            [
             0,
             "#0d0887"
            ],
            [
             0.1111111111111111,
             "#46039f"
            ],
            [
             0.2222222222222222,
             "#7201a8"
            ],
            [
             0.3333333333333333,
             "#9c179e"
            ],
            [
             0.4444444444444444,
             "#bd3786"
            ],
            [
             0.5555555555555556,
             "#d8576b"
            ],
            [
             0.6666666666666666,
             "#ed7953"
            ],
            [
             0.7777777777777778,
             "#fb9f3a"
            ],
            [
             0.8888888888888888,
             "#fdca26"
            ],
            [
             1,
             "#f0f921"
            ]
           ]
          },
          "colorway": [
           "#636efa",
           "#EF553B",
           "#00cc96",
           "#ab63fa",
           "#FFA15A",
           "#19d3f3",
           "#FF6692",
           "#B6E880",
           "#FF97FF",
           "#FECB52"
          ],
          "font": {
           "color": "#2a3f5f"
          },
          "geo": {
           "bgcolor": "white",
           "lakecolor": "white",
           "landcolor": "#E5ECF6",
           "showlakes": true,
           "showland": true,
           "subunitcolor": "white"
          },
          "hoverlabel": {
           "align": "left"
          },
          "hovermode": "closest",
          "mapbox": {
           "style": "light"
          },
          "paper_bgcolor": "white",
          "plot_bgcolor": "#E5ECF6",
          "polar": {
           "angularaxis": {
            "gridcolor": "white",
            "linecolor": "white",
            "ticks": ""
           },
           "bgcolor": "#E5ECF6",
           "radialaxis": {
            "gridcolor": "white",
            "linecolor": "white",
            "ticks": ""
           }
          },
          "scene": {
           "xaxis": {
            "backgroundcolor": "#E5ECF6",
            "gridcolor": "white",
            "gridwidth": 2,
            "linecolor": "white",
            "showbackground": true,
            "ticks": "",
            "zerolinecolor": "white"
           },
           "yaxis": {
            "backgroundcolor": "#E5ECF6",
            "gridcolor": "white",
            "gridwidth": 2,
            "linecolor": "white",
            "showbackground": true,
            "ticks": "",
            "zerolinecolor": "white"
           },
           "zaxis": {
            "backgroundcolor": "#E5ECF6",
            "gridcolor": "white",
            "gridwidth": 2,
            "linecolor": "white",
            "showbackground": true,
            "ticks": "",
            "zerolinecolor": "white"
           }
          },
          "shapedefaults": {
           "line": {
            "color": "#2a3f5f"
           }
          },
          "ternary": {
           "aaxis": {
            "gridcolor": "white",
            "linecolor": "white",
            "ticks": ""
           },
           "baxis": {
            "gridcolor": "white",
            "linecolor": "white",
            "ticks": ""
           },
           "bgcolor": "#E5ECF6",
           "caxis": {
            "gridcolor": "white",
            "linecolor": "white",
            "ticks": ""
           }
          },
          "title": {
           "x": 0.05
          },
          "xaxis": {
           "automargin": true,
           "gridcolor": "white",
           "linecolor": "white",
           "ticks": "",
           "title": {
            "standoff": 15
           },
           "zerolinecolor": "white",
           "zerolinewidth": 2
          },
          "yaxis": {
           "automargin": true,
           "gridcolor": "white",
           "linecolor": "white",
           "ticks": "",
           "title": {
            "standoff": 15
           },
           "zerolinecolor": "white",
           "zerolinewidth": 2
          }
         }
        },
        "title": {
         "text": "PCA (Raw)"
        },
        "xaxis": {
         "anchor": "y",
         "domain": [
          0,
          1
         ],
         "title": {
          "text": "PC1 (34.7%)"
         }
        },
        "yaxis": {
         "anchor": "x",
         "domain": [
          0,
          1
         ],
         "title": {
          "text": "PC2 (22.0%)"
         }
        }
       }
      },
      "image/png": "[encoded data removed]"
     },
     "metadata": {},
     "output_type": "display_data"
    },
    {
     "data": {
      "image/png": "[encoded data removed]",
      "text/plain": [
       "<Figure size 600x400 with 1 Axes>"
      ]
     },
     "metadata": {},
     "output_type": "display_data"
    },
    {
     "data": {
      "application/vnd.plotly.v1+json": {
       "config": {
        "plotlyServerURL": "https://plot.ly"
       },
       "data": [
        {
         "fill": "tozerox",
         "mode": "lines",
         "name": "Cluster 0",
         "text": [
          "Cluster 0",
          "Cluster 0",
          "Cluster 0",
          "Cluster 0",
          "Cluster 0",
          "Cluster 0",
          "Cluster 0",
          "Cluster 0",
          "Cluster 0",
          "Cluster 0",
          "Cluster 0",
          "Cluster 0",
          "Cluster 0",
          "Cluster 0",
          "Cluster 0",
          "Cluster 0",
          "Cluster 0",
          "Cluster 0",
          "Cluster 0",
          "Cluster 0",
          "Cluster 0",
          "Cluster 0",
          "Cluster 0",
          "Cluster 0",
          "Cluster 0",
          "Cluster 0",
          "Cluster 0",
          "Cluster 0",
          "Cluster 0",
          "Cluster 0",
          "Cluster 0",
          "Cluster 0",
          "Cluster 0",
          "Cluster 0",
          "Cluster 0",
          "Cluster 0",
          "Cluster 0",
          "Cluster 0",
          "Cluster 0",
          "Cluster 0",
          "Cluster 0",
          "Cluster 0",
          "Cluster 0",
          "Cluster 0"
         ],
         "type": "scatter",
         "x": {
          "bdata": "6vCKdfSG1z/l7arDsijXPwWaFZnXIdc/v3i2BVqo1j8Tt1d3/nTWPwgJ/HAsXtY/8j1qrzLu1T8tmYkHT8nVPyhCOAIYxNU/ruVPQkyJ1T/pLquTXC/VPxSgo3Lg/tQ/YtrgGDda1D9MD/LHqx7UPyC6JYL19NM/agaeiC/o0z+Yp6VCTpzTP47ni6v9mtM/oXL6BJF/0z84jcYNAEzTPy0G5GaW1dI/WWPrSM1u0j+naW1VV2PSP+XKfhZSS9I/NwCyXIwy0j8Ev+eXYfnRP4EN/W3/0NE/Uv9AQTrO0T8dMCk7qMjRPwF4X/9OtNE/8ekSSyOv0T8cfP+ss+7QP6o50sVe1tA/CqO9deBb0D/7v20yawjQPwE8VZ+G088/c2czxnZnzz8bJvtD0CPOPxEwxykklc0/55DLvS8NzD/Tb4uqxZrIP/I4O8sbaMc/RO6CNlyhvj9eSVyqCu+7Pw==",
          "dtype": "f8"
         },
         "y": {
          "bdata": "CgsMDQ4PEBESExQVFhcYGRobHB0eHyAhIiMkJSYnKCkqKywtLi8wMTIzNDU=",
          "dtype": "i1"
         }
        },
        {
         "fill": "tozerox",
         "mode": "lines",
         "name": "Cluster 1",
         "text": [
          "Cluster 1",
          "Cluster 1",
          "Cluster 1",
          "Cluster 1",
          "Cluster 1",
          "Cluster 1",
          "Cluster 1",
          "Cluster 1",
          "Cluster 1",
          "Cluster 1",
          "Cluster 1",
          "Cluster 1",
          "Cluster 1",
          "Cluster 1",
          "Cluster 1",
          "Cluster 1",
          "Cluster 1",
          "Cluster 1",
          "Cluster 1",
          "Cluster 1",
          "Cluster 1",
          "Cluster 1",
          "Cluster 1",
          "Cluster 1",
          "Cluster 1",
          "Cluster 1",
          "Cluster 1",
          "Cluster 1",
          "Cluster 1",
          "Cluster 1",
          "Cluster 1",
          "Cluster 1",
          "Cluster 1",
          "Cluster 1",
          "Cluster 1",
          "Cluster 1",
          "Cluster 1",
          "Cluster 1",
          "Cluster 1",
          "Cluster 1",
          "Cluster 1"
         ],
         "type": "scatter",
         "x": {
          "bdata": "lCs618Bo2j/XCmRdL1fZP1tRJTv5e9g/pLeJyfP01z813TlM8YjXPzzwHvX/W9c/J9MU1AsC1z9Seh3zuMzWP8vMPFGgyNY/IgYJrHOW1j/E27V2RcnVPxW+5idVwNU//0JlJ9uy1T+mF3r3uIjVP+7pV462hdU/xY1sax181T+7R2Ngq3XVP6iY4Tu2JNU/SKQ64nPq1D9gXXIxb8vUP4c/2lC6XtQ/93J8YE9C1D/20adS2TnUP3MDsuKNbdM/sVmdHlAR0z9mHCLu4OXSPzlfBAsA4tI/XTyEwoXd0j/ycKu3gUrSP4a51uIoAdI/bjFIaDT30T+PffyCAebRP68xavE4UdE/8hqTkwHyzz/AnYRaNdvPP78+cBYWjs8/g/j875AFzT9TR6Pgj5fKP8z/WsyijMo/ya2KUI1Myj+GI1NvqwbJPw==",
          "dtype": "f8"
         },
         "y": {
          "bdata": "QEFCQ0RFRkdISUpLTE1OT1BRUlNUVVZXWFlaW1xdXl9gYWJjZGVmZ2g=",
          "dtype": "i1"
         }
        }
       ],
       "layout": {
        "annotations": [
         {
          "showarrow": false,
          "text": "Durchschnitt: 0.297",
          "x": 0.29711853714606956,
          "xanchor": "center",
          "xref": "x",
          "y": 1,
          "yanchor": "bottom",
          "yref": "y domain"
         }
        ],
        "shapes": [
         {
          "line": {
           "color": "red",
           "dash": "dash"
          },
          "type": "line",
          "x0": 0.29711853714606956,
          "x1": 0.29711853714606956,
          "xref": "x",
          "y0": 0,
          "y1": 1,
          "yref": "y domain"
         }
        ],
        "showlegend": true,
        "template": {
         "data": {
          "bar": [
           {
            "error_x": {
             "color": "#2a3f5f"
            },
            "error_y": {
             "color": "#2a3f5f"
            },
            "marker": {
             "line": {
              "color": "#E5ECF6",
              "width": 0.5
             },
             "pattern": {
              "fillmode": "overlay",
              "size": 10,
              "solidity": 0.2
             }
            },
            "type": "bar"
           }
          ],
          "barpolar": [
           {
            "marker": {
             "line": {
              "color": "#E5ECF6",
              "width": 0.5
             },
             "pattern": {
              "fillmode": "overlay",
              "size": 10,
              "solidity": 0.2
             }
            },
            "type": "barpolar"
           }
          ],
          "carpet": [
           {
            "aaxis": {
             "endlinecolor": "#2a3f5f",
             "gridcolor": "white",
             "linecolor": "white",
             "minorgridcolor": "white",
             "startlinecolor": "#2a3f5f"
            },
            "baxis": {
             "endlinecolor": "#2a3f5f",
             "gridcolor": "white",
             "linecolor": "white",
             "minorgridcolor": "white",
             "startlinecolor": "#2a3f5f"
            },
            "type": "carpet"
           }
          ],
          "choropleth": [
           {
            "colorbar": {
             "outlinewidth": 0,
             "ticks": ""
            },
            "type": "choropleth"
           }
          ],
          "contour": [
           {
            "colorbar": {
             "outlinewidth": 0,
             "ticks": ""
            },
            "colorscale": [
             [
              0,
              "#0d0887"
             ],
             [
              0.1111111111111111,
              "#46039f"
             ],
             [
              0.2222222222222222,
              "#7201a8"
             ],
             [
              0.3333333333333333,
              "#9c179e"
             ],
             [
              0.4444444444444444,
              "#bd3786"
             ],
             [
              0.5555555555555556,
              "#d8576b"
             ],
             [
              0.6666666666666666,
              "#ed7953"
             ],
             [
              0.7777777777777778,
              "#fb9f3a"
             ],
             [
              0.8888888888888888,
              "#fdca26"
             ],
             [
              1,
              "#f0f921"
             ]
            ],
            "type": "contour"
           }
          ],
          "contourcarpet": [
           {
            "colorbar": {
             "outlinewidth": 0,
             "ticks": ""
            },
            "type": "contourcarpet"
           }
          ],
          "heatmap": [
           {
            "colorbar": {
             "outlinewidth": 0,
             "ticks": ""
            },
            "colorscale": [
             [
              0,
              "#0d0887"
             ],
             [
              0.1111111111111111,
              "#46039f"
             ],
             [
              0.2222222222222222,
              "#7201a8"
             ],
             [
              0.3333333333333333,
              "#9c179e"
             ],
             [
              0.4444444444444444,
              "#bd3786"
             ],
             [
              0.5555555555555556,
              "#d8576b"
             ],
             [
              0.6666666666666666,
              "#ed7953"
             ],
             [
              0.7777777777777778,
              "#fb9f3a"
             ],
             [
              0.8888888888888888,
              "#fdca26"
             ],
             [
              1,
              "#f0f921"
             ]
            ],
            "type": "heatmap"
           }
          ],
          "histogram": [
           {
            "marker": {
             "pattern": {
              "fillmode": "overlay",
              "size": 10,
              "solidity": 0.2
             }
            },
            "type": "histogram"
           }
          ],
          "histogram2d": [
           {
            "colorbar": {
             "outlinewidth": 0,
             "ticks": ""
            },
            "colorscale": [
             [
              0,
              "#0d0887"
             ],
             [
              0.1111111111111111,
              "#46039f"
             ],
             [
              0.2222222222222222,
              "#7201a8"
             ],
             [
              0.3333333333333333,
              "#9c179e"
             ],
             [
              0.4444444444444444,
              "#bd3786"
             ],
             [
              0.5555555555555556,
              "#d8576b"
             ],
             [
              0.6666666666666666,
              "#ed7953"
             ],
             [
              0.7777777777777778,
              "#fb9f3a"
             ],
             [
              0.8888888888888888,
              "#fdca26"
             ],
             [
              1,
              "#f0f921"
             ]
            ],
            "type": "histogram2d"
           }
          ],
          "histogram2dcontour": [
           {
            "colorbar": {
             "outlinewidth": 0,
             "ticks": ""
            },
            "colorscale": [
             [
              0,
              "#0d0887"
             ],
             [
              0.1111111111111111,
              "#46039f"
             ],
             [
              0.2222222222222222,
              "#7201a8"
             ],
             [
              0.3333333333333333,
              "#9c179e"
             ],
             [
              0.4444444444444444,
              "#bd3786"
             ],
             [
              0.5555555555555556,
              "#d8576b"
             ],
             [
              0.6666666666666666,
              "#ed7953"
             ],
             [
              0.7777777777777778,
              "#fb9f3a"
             ],
             [
              0.8888888888888888,
              "#fdca26"
             ],
             [
              1,
              "#f0f921"
             ]
            ],
            "type": "histogram2dcontour"
           }
          ],
          "mesh3d": [
           {
            "colorbar": {
             "outlinewidth": 0,
             "ticks": ""
            },
            "type": "mesh3d"
           }
          ],
          "parcoords": [
           {
            "line": {
             "colorbar": {
              "outlinewidth": 0,
              "ticks": ""
             }
            },
            "type": "parcoords"
           }
          ],
          "pie": [
           {
            "automargin": true,
            "type": "pie"
           }
          ],
          "scatter": [
           {
            "fillpattern": {
             "fillmode": "overlay",
             "size": 10,
             "solidity": 0.2
            },
            "type": "scatter"
           }
          ],
          "scatter3d": [
           {
            "line": {
             "colorbar": {
              "outlinewidth": 0,
              "ticks": ""
             }
            },
            "marker": {
             "colorbar": {
              "outlinewidth": 0,
              "ticks": ""
             }
            },
            "type": "scatter3d"
           }
          ],
          "scattercarpet": [
           {
            "marker": {
             "colorbar": {
              "outlinewidth": 0,
              "ticks": ""
             }
            },
            "type": "scattercarpet"
           }
          ],
          "scattergeo": [
           {
            "marker": {
             "colorbar": {
              "outlinewidth": 0,
              "ticks": ""
             }
            },
            "type": "scattergeo"
           }
          ],
          "scattergl": [
           {
            "marker": {
             "colorbar": {
              "outlinewidth": 0,
              "ticks": ""
             }
            },
            "type": "scattergl"
           }
          ],
          "scattermap": [
           {
            "marker": {
             "colorbar": {
              "outlinewidth": 0,
              "ticks": ""
             }
            },
            "type": "scattermap"
           }
          ],
          "scattermapbox": [
           {
            "marker": {
             "colorbar": {
              "outlinewidth": 0,
              "ticks": ""
             }
            },
            "type": "scattermapbox"
           }
          ],
          "scatterpolar": [
           {
            "marker": {
             "colorbar": {
              "outlinewidth": 0,
              "ticks": ""
             }
            },
            "type": "scatterpolar"
           }
          ],
          "scatterpolargl": [
           {
            "marker": {
             "colorbar": {
              "outlinewidth": 0,
              "ticks": ""
             }
            },
            "type": "scatterpolargl"
           }
          ],
          "scatterternary": [
           {
            "marker": {
             "colorbar": {
              "outlinewidth": 0,
              "ticks": ""
             }
            },
            "type": "scatterternary"
           }
          ],
          "surface": [
           {
            "colorbar": {
             "outlinewidth": 0,
             "ticks": ""
            },
            "colorscale": [
             [
              0,
              "#0d0887"
             ],
             [
              0.1111111111111111,
              "#46039f"
             ],
             [
              0.2222222222222222,
              "#7201a8"
             ],
             [
              0.3333333333333333,
              "#9c179e"
             ],
             [
              0.4444444444444444,
              "#bd3786"
             ],
             [
              0.5555555555555556,
              "#d8576b"
             ],
             [
              0.6666666666666666,
              "#ed7953"
             ],
             [
              0.7777777777777778,
              "#fb9f3a"
             ],
             [
              0.8888888888888888,
              "#fdca26"
             ],
             [
              1,
              "#f0f921"
             ]
            ],
            "type": "surface"
           }
          ],
          "table": [
           {
            "cells": {
             "fill": {
              "color": "#EBF0F8"
             },
             "line": {
              "color": "white"
             }
            },
            "header": {
             "fill": {
              "color": "#C8D4E3"
             },
             "line": {
              "color": "white"
             }
            },
            "type": "table"
           }
          ]
         },
         "layout": {
          "annotationdefaults": {
           "arrowcolor": "#2a3f5f",
           "arrowhead": 0,
           "arrowwidth": 1
          },
          "autotypenumbers": "strict",
          "coloraxis": {
           "colorbar": {
            "outlinewidth": 0,
            "ticks": ""
           }
          },
          "colorscale": {
           "diverging": [
            [
             0,
             "#8e0152"
            ],
            [
             0.1,
             "#c51b7d"
            ],
            [
             0.2,
             "#de77ae"
            ],
            [
             0.3,
             "#f1b6da"
            ],
            [
             0.4,
             "#fde0ef"
            ],
            [
             0.5,
             "#f7f7f7"
            ],
            [
             0.6,
             "#e6f5d0"
            ],
            [
             0.7,
             "#b8e186"
            ],
            [
             0.8,
             "#7fbc41"
            ],
            [
             0.9,
             "#4d9221"
            ],
            [
             1,
             "#276419"
            ]
           ],
           "sequential": [
            [
             0,
             "#0d0887"
            ],
            [
             0.1111111111111111,
             "#46039f"
            ],
            [
             0.2222222222222222,
             "#7201a8"
            ],
            [
             0.3333333333333333,
             "#9c179e"
            ],
            [
             0.4444444444444444,
             "#bd3786"
            ],
            [
             0.5555555555555556,
             "#d8576b"
            ],
            [
             0.6666666666666666,
             "#ed7953"
            ],
            [
             0.7777777777777778,
             "#fb9f3a"
            ],
            [
             0.8888888888888888,
             "#fdca26"
            ],
            [
             1,
             "#f0f921"
            ]
           ],
           "sequentialminus": [
            [
             0,
             "#0d0887"
            ],
            [
             0.1111111111111111,
             "#46039f"
            ],
            [
             0.2222222222222222,
             "#7201a8"
            ],
            [
             0.3333333333333333,
             "#9c179e"
            ],
            [
             0.4444444444444444,
             "#bd3786"
            ],
            [
             0.5555555555555556,
             "#d8576b"
            ],
            [
             0.6666666666666666,
             "#ed7953"
            ],
            [
             0.7777777777777778,
             "#fb9f3a"
            ],
            [
             0.8888888888888888,
             "#fdca26"
            ],
            [
             1,
             "#f0f921"
            ]
           ]
          },
          "colorway": [
           "#636efa",
           "#EF553B",
           "#00cc96",
           "#ab63fa",
           "#FFA15A",
           "#19d3f3",
           "#FF6692",
           "#B6E880",
           "#FF97FF",
           "#FECB52"
          ],
          "font": {
           "color": "#2a3f5f"
          },
          "geo": {
           "bgcolor": "white",
           "lakecolor": "white",
           "landcolor": "#E5ECF6",
           "showlakes": true,
           "showland": true,
           "subunitcolor": "white"
          },
          "hoverlabel": {
           "align": "left"
          },
          "hovermode": "closest",
          "mapbox": {
           "style": "light"
          },
          "paper_bgcolor": "white",
          "plot_bgcolor": "#E5ECF6",
          "polar": {
           "angularaxis": {
            "gridcolor": "white",
            "linecolor": "white",
            "ticks": ""
           },
           "bgcolor": "#E5ECF6",
           "radialaxis": {
            "gridcolor": "white",
            "linecolor": "white",
            "ticks": ""
           }
          },
          "scene": {
           "xaxis": {
            "backgroundcolor": "#E5ECF6",
            "gridcolor": "white",
            "gridwidth": 2,
            "linecolor": "white",
            "showbackground": true,
            "ticks": "",
            "zerolinecolor": "white"
           },
           "yaxis": {
            "backgroundcolor": "#E5ECF6",
            "gridcolor": "white",
            "gridwidth": 2,
            "linecolor": "white",
            "showbackground": true,
            "ticks": "",
            "zerolinecolor": "white"
           },
           "zaxis": {
            "backgroundcolor": "#E5ECF6",
            "gridcolor": "white",
            "gridwidth": 2,
            "linecolor": "white",
            "showbackground": true,
            "ticks": "",
            "zerolinecolor": "white"
           }
          },
          "shapedefaults": {
           "line": {
            "color": "#2a3f5f"
           }
          },
          "ternary": {
           "aaxis": {
            "gridcolor": "white",
            "linecolor": "white",
            "ticks": ""
           },
           "baxis": {
            "gridcolor": "white",
            "linecolor": "white",
            "ticks": ""
           },
           "bgcolor": "#E5ECF6",
           "caxis": {
            "gridcolor": "white",
            "linecolor": "white",
            "ticks": ""
           }
          },
          "title": {
           "x": 0.05
          },
          "xaxis": {
           "automargin": true,
           "gridcolor": "white",
           "linecolor": "white",
           "ticks": "",
           "title": {
            "standoff": 15
           },
           "zerolinecolor": "white",
           "zerolinewidth": 2
          },
          "yaxis": {
           "automargin": true,
           "gridcolor": "white",
           "linecolor": "white",
           "ticks": "",
           "title": {
            "standoff": 15
           },
           "zerolinecolor": "white",
           "zerolinewidth": 2
          }
         }
        },
        "title": {
         "text": "Silhouette-Plot für Cluster"
        },
        "xaxis": {
         "title": {
          "text": "Silhouette-Koeffizient"
         }
        },
        "yaxis": {
         "title": {
          "text": "Cluster"
         }
        }
       }
      },
      "image/png": "[encoded data removed]"
     },
     "metadata": {},
     "output_type": "display_data"
    },
    {
     "data": {
      "application/vnd.plotly.v1+json": {
       "config": {
        "plotlyServerURL": "https://plot.ly"
       },
       "data": [
        {
         "hovertemplate": "color=1<br>PC1 (34.7%)=%{x}<br>PC2 (22.0%)=%{y}<extra></extra>",
         "legendgroup": "1",
         "marker": {
          "color": "#636efa",
          "symbol": "circle"
         },
         "mode": "markers",
         "name": "1",
         "orientation": "v",
         "showlegend": true,
         "type": "scatter",
         "x": {
          "bdata": "794UWZPV4L9Drg3Upu/4vxHISeE7Jfq/z/LG8NEiBsCcKPftStH3v2cSQ/mmwAfAB4E49KoXAsDrE8Rvx/QEwJzK2CPZIQjAK2TWKP2V97+pMjwYw8b+v2NRO4d5BAHAbWeq8qsS8L8Fz+Z8Vc0KwEziH6q/igfA/0qE8w9D+r+KGmQSPWsDwEva1n2OQATASXZHUA/UAsDSHntcNBQDwHcufxhSqQrAiftbIc5WAMC1E7G+rC8EwFQ/FKaLgAHAqJwyMke9+b+ZsFz5vD/2v08ETl2E2gLA7141tPpr8b8xlmO3kBsCwKi/xohlwAvAfArUAfN6EMA+jkfE8+Prv7NJgctlyva/waKsJxal4b83ETztzpj3v0ocqN3b+Ni/Rx4pSwa0BcBU3Be/vzfqv6u0fdlB5f2/atGqJ24a979ZQDJb7wf6vw==",
          "dtype": "f8"
         },
         "xaxis": "x",
         "y": {
          "bdata": "2aLbvHDlDUAkTmtdvtL/P0uwpF2Gvvc/26n8RP/xxL/pp9W+0XX3Py1pl0Dijue/7+pkQQBUpb+sP1sqkqbrPxTp3dmIH/S/4fXut4w//j8aq39gi73GvwyrfnScB80/h5QhsWM8A0ByShdl5QPyv0pUqGZOZOq/B6EaA4GO9j98fjw34knVvzb0koMTsvK/z4Kw3vY7579HNh4KmmbOPzREsv2uOem/T38+u4Ck8z/B+yFuMZ/Dv1W0N5KeodO/v9dA4hqk/j+6D6xkjf3nPzhsnxAMseK/3D8Unss2CUBzU9jLb+Hrv0X+x5VCWPi/7wKzs9vEB8Bs9U4mFbcKQPZ6aiuLcfs/YLPzKQ1dB0DiI9KPyf/1Py+gxAseUQpAM6sY3SLs7r8amGh8PaoIQKIqEXrxI+Q/lP0u6fPsAEAuNwEZF2DtPw==",
          "dtype": "f8"
         },
         "yaxis": "y"
        },
        {
         "hovertemplate": "color=0<br>PC1 (34.7%)=%{x}<br>PC2 (22.0%)=%{y}<extra></extra>",
         "legendgroup": "0",
         "marker": {
          "color": "#EF553B",
          "symbol": "circle"
         },
         "mode": "markers",
         "name": "0",
         "orientation": "v",
         "showlegend": true,
         "type": "scatter",
         "x": {
          "bdata": "lhMbq5wLxD+bFxlZL0X/P1+udysQPfc/Ti2/9L4xAEDhB4mCi6jvP2i7jssiCwBAOjviXCyfCEAaivSkUZgEQBOcTgnmYf0/9FdwTNV9AUDBhTYvp+kCQKoKrkPikf4/dQFxOL3cAEDDLD07GCoAQEOU4C+vsgRAyYXV47Jz9z+xvk/lcVYHQFs4EIMEIvk/cvAr0ZyK+D9xbe1HpOrxPw/CvEsWEAhAXOIlpZvkAkCf8I0SoPvnP3AzQ3+xxwNArBfQIYJSBECQZ/FZm+q7v2WLAOTl7gxAFsSmvNZHAEDGv3qMwOD4Px+6cVQI3gBAD1AjJXJZ/D8QX9OKvN0CQBUUH92U0P0/CrJtceCz/z92eNB3Y9QLQB16EyXyewhALWfMofhy7T9DW6dignX1P3rdnEQjuPM/VYbrCyx3/j9214yLlHvZv5sQFhCvrQJAQNy1j8zu+z8mNPkh1wXpPw==",
          "dtype": "f8"
         },
         "xaxis": "x",
         "y": {
          "bdata": "UqGekjFtDMAyckCH4GO7v8ftmBKL3vK/nMNcalunsj9lTfPUuGoGwLAnEtJCYMS/nYdgdIhaAUCj5bBQxVDyP5KuVahZ1uW/LX0MBjgn6b9pX97FZQPdvwKxT13A9em/1nxgrYHf9r8eYIDcsHbuv3WJ8/cnVuw/WcMskjPv9b+tSnnjQt/0P17+aILBXfa/EaG0wPQz8r8g7bBOMIf3v2r2RIUEqvg/GLQDCte/1D8myu4WDz8GwGB8DzuQvPY/uGtbq7iBxT+nOBXETDEHwCOVIL0CKgJANad1sjz2yj+tnrULx8zhvz7X7oekj9G/NrQDq9gX+L/bXXfwtLrIv0DO/t2JpvG/IYkIDkcE6b+/4W9AHNEBQJ4Qi50DtwFA8m30IgikBcAd3Bnzz9T8v3IvZwoVnPq/G2eVm39M6L9ezaYKFw8PwAfFd9iPm9C/yuMUXXrX67960Unr+WEIwA==",
          "dtype": "f8"
         },
         "yaxis": "y"
        }
       ],
       "layout": {
        "legend": {
         "title": {
          "text": "Cluster"
         },
         "tracegroupgap": 0
        },
        "template": {
         "data": {
          "bar": [
           {
            "error_x": {
             "color": "#2a3f5f"
            },
            "error_y": {
             "color": "#2a3f5f"
            },
            "marker": {
             "line": {
              "color": "#E5ECF6",
              "width": 0.5
             },
             "pattern": {
              "fillmode": "overlay",
              "size": 10,
              "solidity": 0.2
             }
            },
            "type": "bar"
           }
          ],
          "barpolar": [
           {
            "marker": {
             "line": {
              "color": "#E5ECF6",
              "width": 0.5
             },
             "pattern": {
              "fillmode": "overlay",
              "size": 10,
              "solidity": 0.2
             }
            },
            "type": "barpolar"
           }
          ],
          "carpet": [
           {
            "aaxis": {
             "endlinecolor": "#2a3f5f",
             "gridcolor": "white",
             "linecolor": "white",
             "minorgridcolor": "white",
             "startlinecolor": "#2a3f5f"
            },
            "baxis": {
             "endlinecolor": "#2a3f5f",
             "gridcolor": "white",
             "linecolor": "white",
             "minorgridcolor": "white",
             "startlinecolor": "#2a3f5f"
            },
            "type": "carpet"
           }
          ],
          "choropleth": [
           {
            "colorbar": {
             "outlinewidth": 0,
             "ticks": ""
            },
            "type": "choropleth"
           }
          ],
          "contour": [
           {
            "colorbar": {
             "outlinewidth": 0,
             "ticks": ""
            },
            "colorscale": [
             [
              0,
              "#0d0887"
             ],
             [
              0.1111111111111111,
              "#46039f"
             ],
             [
              0.2222222222222222,
              "#7201a8"
             ],
             [
              0.3333333333333333,
              "#9c179e"
             ],
             [
              0.4444444444444444,
              "#bd3786"
             ],
             [
              0.5555555555555556,
              "#d8576b"
             ],
             [
              0.6666666666666666,
              "#ed7953"
             ],
             [
              0.7777777777777778,
              "#fb9f3a"
             ],
             [
              0.8888888888888888,
              "#fdca26"
             ],
             [
              1,
              "#f0f921"
             ]
            ],
            "type": "contour"
           }
          ],
          "contourcarpet": [
           {
            "colorbar": {
             "outlinewidth": 0,
             "ticks": ""
            },
            "type": "contourcarpet"
           }
          ],
          "heatmap": [
           {
            "colorbar": {
             "outlinewidth": 0,
             "ticks": ""
            },
            "colorscale": [
             [
              0,
              "#0d0887"
             ],
             [
              0.1111111111111111,
              "#46039f"
             ],
             [
              0.2222222222222222,
              "#7201a8"
             ],
             [
              0.3333333333333333,
              "#9c179e"
             ],
             [
              0.4444444444444444,
              "#bd3786"
             ],
             [
              0.5555555555555556,
              "#d8576b"
             ],
             [
              0.6666666666666666,
              "#ed7953"
             ],
             [
              0.7777777777777778,
              "#fb9f3a"
             ],
             [
              0.8888888888888888,
              "#fdca26"
             ],
             [
              1,
              "#f0f921"
             ]
            ],
            "type": "heatmap"
           }
          ],
          "histogram": [
           {
            "marker": {
             "pattern": {
              "fillmode": "overlay",
              "size": 10,
              "solidity": 0.2
             }
            },
            "type": "histogram"
           }
          ],
          "histogram2d": [
           {
            "colorbar": {
             "outlinewidth": 0,
             "ticks": ""
            },
            "colorscale": [
             [
              0,
              "#0d0887"
             ],
             [
              0.1111111111111111,
              "#46039f"
             ],
             [
              0.2222222222222222,
              "#7201a8"
             ],
             [
              0.3333333333333333,
              "#9c179e"
             ],
             [
              0.4444444444444444,
              "#bd3786"
             ],
             [
              0.5555555555555556,
              "#d8576b"
             ],
             [
              0.6666666666666666,
              "#ed7953"
             ],
             [
              0.7777777777777778,
              "#fb9f3a"
             ],
             [
              0.8888888888888888,
              "#fdca26"
             ],
             [
              1,
              "#f0f921"
             ]
            ],
            "type": "histogram2d"
           }
          ],
          "histogram2dcontour": [
           {
            "colorbar": {
             "outlinewidth": 0,
             "ticks": ""
            },
            "colorscale": [
             [
              0,
              "#0d0887"
             ],
             [
              0.1111111111111111,
              "#46039f"
             ],
             [
              0.2222222222222222,
              "#7201a8"
             ],
             [
              0.3333333333333333,
              "#9c179e"
             ],
             [
              0.4444444444444444,
              "#bd3786"
             ],
             [
              0.5555555555555556,
              "#d8576b"
             ],
             [
              0.6666666666666666,
              "#ed7953"
             ],
             [
              0.7777777777777778,
              "#fb9f3a"
             ],
             [
              0.8888888888888888,
              "#fdca26"
             ],
             [
              1,
              "#f0f921"
             ]
            ],
            "type": "histogram2dcontour"
           }
          ],
          "mesh3d": [
           {
            "colorbar": {
             "outlinewidth": 0,
             "ticks": ""
            },
            "type": "mesh3d"
           }
          ],
          "parcoords": [
           {
            "line": {
             "colorbar": {
              "outlinewidth": 0,
              "ticks": ""
             }
            },
            "type": "parcoords"
           }
          ],
          "pie": [
           {
            "automargin": true,
            "type": "pie"
           }
          ],
          "scatter": [
           {
            "fillpattern": {
             "fillmode": "overlay",
             "size": 10,
             "solidity": 0.2
            },
            "type": "scatter"
           }
          ],
          "scatter3d": [
           {
            "line": {
             "colorbar": {
              "outlinewidth": 0,
              "ticks": ""
             }
            },
            "marker": {
             "colorbar": {
              "outlinewidth": 0,
              "ticks": ""
             }
            },
            "type": "scatter3d"
           }
          ],
          "scattercarpet": [
           {
            "marker": {
             "colorbar": {
              "outlinewidth": 0,
              "ticks": ""
             }
            },
            "type": "scattercarpet"
           }
          ],
          "scattergeo": [
           {
            "marker": {
             "colorbar": {
              "outlinewidth": 0,
              "ticks": ""
             }
            },
            "type": "scattergeo"
           }
          ],
          "scattergl": [
           {
            "marker": {
             "colorbar": {
              "outlinewidth": 0,
              "ticks": ""
             }
            },
            "type": "scattergl"
           }
          ],
          "scattermap": [
           {
            "marker": {
             "colorbar": {
              "outlinewidth": 0,
              "ticks": ""
             }
            },
            "type": "scattermap"
           }
          ],
          "scattermapbox": [
           {
            "marker": {
             "colorbar": {
              "outlinewidth": 0,
              "ticks": ""
             }
            },
            "type": "scattermapbox"
           }
          ],
          "scatterpolar": [
           {
            "marker": {
             "colorbar": {
              "outlinewidth": 0,
              "ticks": ""
             }
            },
            "type": "scatterpolar"
           }
          ],
          "scatterpolargl": [
           {
            "marker": {
             "colorbar": {
              "outlinewidth": 0,
              "ticks": ""
             }
            },
            "type": "scatterpolargl"
           }
          ],
          "scatterternary": [
           {
            "marker": {
             "colorbar": {
              "outlinewidth": 0,
              "ticks": ""
             }
            },
            "type": "scatterternary"
           }
          ],
          "surface": [
           {
            "colorbar": {
             "outlinewidth": 0,
             "ticks": ""
            },
            "colorscale": [
             [
              0,
              "#0d0887"
             ],
             [
              0.1111111111111111,
              "#46039f"
             ],
             [
              0.2222222222222222,
              "#7201a8"
             ],
             [
              0.3333333333333333,
              "#9c179e"
             ],
             [
              0.4444444444444444,
              "#bd3786"
             ],
             [
              0.5555555555555556,
              "#d8576b"
             ],
             [
              0.6666666666666666,
              "#ed7953"
             ],
             [
              0.7777777777777778,
              "#fb9f3a"
             ],
             [
              0.8888888888888888,
              "#fdca26"
             ],
             [
              1,
              "#f0f921"
             ]
            ],
            "type": "surface"
           }
          ],
          "table": [
           {
            "cells": {
             "fill": {
              "color": "#EBF0F8"
             },
             "line": {
              "color": "white"
             }
            },
            "header": {
             "fill": {
              "color": "#C8D4E3"
             },
             "line": {
              "color": "white"
             }
            },
            "type": "table"
           }
          ]
         },
         "layout": {
          "annotationdefaults": {
           "arrowcolor": "#2a3f5f",
           "arrowhead": 0,
           "arrowwidth": 1
          },
          "autotypenumbers": "strict",
          "coloraxis": {
           "colorbar": {
            "outlinewidth": 0,
            "ticks": ""
           }
          },
          "colorscale": {
           "diverging": [
            [
             0,
             "#8e0152"
            ],
            [
             0.1,
             "#c51b7d"
            ],
            [
             0.2,
             "#de77ae"
            ],
            [
             0.3,
             "#f1b6da"
            ],
            [
             0.4,
             "#fde0ef"
            ],
            [
             0.5,
             "#f7f7f7"
            ],
            [
             0.6,
             "#e6f5d0"
            ],
            [
             0.7,
             "#b8e186"
            ],
            [
             0.8,
             "#7fbc41"
            ],
            [
             0.9,
             "#4d9221"
            ],
            [
             1,
             "#276419"
            ]
           ],
           "sequential": [
            [
             0,
             "#0d0887"
            ],
            [
             0.1111111111111111,
             "#46039f"
            ],
            [
             0.2222222222222222,
             "#7201a8"
            ],
            [
             0.3333333333333333,
             "#9c179e"
            ],
            [
             0.4444444444444444,
             "#bd3786"
            ],
            [
             0.5555555555555556,
             "#d8576b"
            ],
            [
             0.6666666666666666,
             "#ed7953"
            ],
            [
             0.7777777777777778,
             "#fb9f3a"
            ],
            [
             0.8888888888888888,
             "#fdca26"
            ],
            [
             1,
             "#f0f921"
            ]
           ],
           "sequentialminus": [
            [
             0,
             "#0d0887"
            ],
            [
             0.1111111111111111,
             "#46039f"
            ],
            [
             0.2222222222222222,
             "#7201a8"
            ],
            [
             0.3333333333333333,
             "#9c179e"
            ],
            [
             0.4444444444444444,
             "#bd3786"
            ],
            [
             0.5555555555555556,
             "#d8576b"
            ],
            [
             0.6666666666666666,
             "#ed7953"
            ],
            [
             0.7777777777777778,
             "#fb9f3a"
            ],
            [
             0.8888888888888888,
             "#fdca26"
            ],
            [
             1,
             "#f0f921"
            ]
           ]
          },
          "colorway": [
           "#636efa",
           "#EF553B",
           "#00cc96",
           "#ab63fa",
           "#FFA15A",
           "#19d3f3",
           "#FF6692",
           "#B6E880",
           "#FF97FF",
           "#FECB52"
          ],
          "font": {
           "color": "#2a3f5f"
          },
          "geo": {
           "bgcolor": "white",
           "lakecolor": "white",
           "landcolor": "#E5ECF6",
           "showlakes": true,
           "showland": true,
           "subunitcolor": "white"
          },
          "hoverlabel": {
           "align": "left"
          },
          "hovermode": "closest",
          "mapbox": {
           "style": "light"
          },
          "paper_bgcolor": "white",
          "plot_bgcolor": "#E5ECF6",
          "polar": {
           "angularaxis": {
            "gridcolor": "white",
            "linecolor": "white",
            "ticks": ""
           },
           "bgcolor": "#E5ECF6",
           "radialaxis": {
            "gridcolor": "white",
            "linecolor": "white",
            "ticks": ""
           }
          },
          "scene": {
           "xaxis": {
            "backgroundcolor": "#E5ECF6",
            "gridcolor": "white",
            "gridwidth": 2,
            "linecolor": "white",
            "showbackground": true,
            "ticks": "",
            "zerolinecolor": "white"
           },
           "yaxis": {
            "backgroundcolor": "#E5ECF6",
            "gridcolor": "white",
            "gridwidth": 2,
            "linecolor": "white",
            "showbackground": true,
            "ticks": "",
            "zerolinecolor": "white"
           },
           "zaxis": {
            "backgroundcolor": "#E5ECF6",
            "gridcolor": "white",
            "gridwidth": 2,
            "linecolor": "white",
            "showbackground": true,
            "ticks": "",
            "zerolinecolor": "white"
           }
          },
          "shapedefaults": {
           "line": {
            "color": "#2a3f5f"
           }
          },
          "ternary": {
           "aaxis": {
            "gridcolor": "white",
            "linecolor": "white",
            "ticks": ""
           },
           "baxis": {
            "gridcolor": "white",
            "linecolor": "white",
            "ticks": ""
           },
           "bgcolor": "#E5ECF6",
           "caxis": {
            "gridcolor": "white",
            "linecolor": "white",
            "ticks": ""
           }
          },
          "title": {
           "x": 0.05
          },
          "xaxis": {
           "automargin": true,
           "gridcolor": "white",
           "linecolor": "white",
           "ticks": "",
           "title": {
            "standoff": 15
           },
           "zerolinecolor": "white",
           "zerolinewidth": 2
          },
          "yaxis": {
           "automargin": true,
           "gridcolor": "white",
           "linecolor": "white",
           "ticks": "",
           "title": {
            "standoff": 15
           },
           "zerolinecolor": "white",
           "zerolinewidth": 2
          }
         }
        },
        "title": {
         "text": "KMEANS Cluster"
        },
        "xaxis": {
         "anchor": "y",
         "domain": [
          0,
          1
         ],
         "title": {
          "text": "PC1 (34.7%)"
         }
        },
        "yaxis": {
         "anchor": "x",
         "domain": [
          0,
          1
         ],
         "title": {
          "text": "PC2 (22.0%)"
         }
        }
       }
      },
      "image/png": "[encoded data removed]"
     },
     "metadata": {},
     "output_type": "display_data"
    },
    {
     "data": {
      "application/vnd.plotly.v1+json": {
       "config": {
        "plotlyServerURL": "https://plot.ly"
       },
       "data": [
        {
         "fill": "tozerox",
         "mode": "lines",
         "name": "Cluster 0",
         "text": [
          "Cluster 0",
          "Cluster 0",
          "Cluster 0",
          "Cluster 0",
          "Cluster 0",
          "Cluster 0",
          "Cluster 0",
          "Cluster 0",
          "Cluster 0",
          "Cluster 0",
          "Cluster 0",
          "Cluster 0",
          "Cluster 0",
          "Cluster 0",
          "Cluster 0",
          "Cluster 0",
          "Cluster 0",
          "Cluster 0",
          "Cluster 0",
          "Cluster 0",
          "Cluster 0",
          "Cluster 0",
          "Cluster 0",
          "Cluster 0",
          "Cluster 0",
          "Cluster 0",
          "Cluster 0",
          "Cluster 0",
          "Cluster 0",
          "Cluster 0",
          "Cluster 0",
          "Cluster 0",
          "Cluster 0",
          "Cluster 0",
          "Cluster 0",
          "Cluster 0",
          "Cluster 0",
          "Cluster 0",
          "Cluster 0",
          "Cluster 0",
          "Cluster 0",
          "Cluster 0",
          "Cluster 0",
          "Cluster 0"
         ],
         "type": "scatter",
         "x": {
          "bdata": "6vCKdfSG1z/l7arDsijXPwWaFZnXIdc/v3i2BVqo1j8Tt1d3/nTWPwgJ/HAsXtY/8j1qrzLu1T8tmYkHT8nVPyhCOAIYxNU/ruVPQkyJ1T/pLquTXC/VPxSgo3Lg/tQ/YtrgGDda1D9MD/LHqx7UPyC6JYL19NM/agaeiC/o0z+Yp6VCTpzTP47ni6v9mtM/oXL6BJF/0z84jcYNAEzTPy0G5GaW1dI/WWPrSM1u0j+naW1VV2PSP+XKfhZSS9I/NwCyXIwy0j8Ev+eXYfnRP4EN/W3/0NE/Uv9AQTrO0T8dMCk7qMjRPwF4X/9OtNE/8ekSSyOv0T8cfP+ss+7QP6o50sVe1tA/CqO9deBb0D/7v20yawjQPwE8VZ+G088/c2czxnZnzz8bJvtD0CPOPxEwxykklc0/55DLvS8NzD/Tb4uqxZrIP/I4O8sbaMc/RO6CNlyhvj9eSVyqCu+7Pw==",
          "dtype": "f8"
         },
         "y": {
          "bdata": "CgsMDQ4PEBESExQVFhcYGRobHB0eHyAhIiMkJSYnKCkqKywtLi8wMTIzNDU=",
          "dtype": "i1"
         }
        },
        {
         "fill": "tozerox",
         "mode": "lines",
         "name": "Cluster 1",
         "text": [
          "Cluster 1",
          "Cluster 1",
          "Cluster 1",
          "Cluster 1",
          "Cluster 1",
          "Cluster 1",
          "Cluster 1",
          "Cluster 1",
          "Cluster 1",
          "Cluster 1",
          "Cluster 1",
          "Cluster 1",
          "Cluster 1",
          "Cluster 1",
          "Cluster 1",
          "Cluster 1",
          "Cluster 1",
          "Cluster 1",
          "Cluster 1",
          "Cluster 1",
          "Cluster 1",
          "Cluster 1",
          "Cluster 1",
          "Cluster 1",
          "Cluster 1",
          "Cluster 1",
          "Cluster 1",
          "Cluster 1",
          "Cluster 1",
          "Cluster 1",
          "Cluster 1",
          "Cluster 1",
          "Cluster 1",
          "Cluster 1",
          "Cluster 1",
          "Cluster 1",
          "Cluster 1",
          "Cluster 1",
          "Cluster 1",
          "Cluster 1",
          "Cluster 1"
         ],
         "type": "scatter",
         "x": {
          "bdata": "lCs618Bo2j/XCmRdL1fZP1tRJTv5e9g/pLeJyfP01z813TlM8YjXPzzwHvX/W9c/J9MU1AsC1z9Seh3zuMzWP8vMPFGgyNY/IgYJrHOW1j/E27V2RcnVPxW+5idVwNU//0JlJ9uy1T+mF3r3uIjVP+7pV462hdU/xY1sax181T+7R2Ngq3XVP6iY4Tu2JNU/SKQ64nPq1D9gXXIxb8vUP4c/2lC6XtQ/93J8YE9C1D/20adS2TnUP3MDsuKNbdM/sVmdHlAR0z9mHCLu4OXSPzlfBAsA4tI/XTyEwoXd0j/ycKu3gUrSP4a51uIoAdI/bjFIaDT30T+PffyCAebRP68xavE4UdE/8hqTkwHyzz/AnYRaNdvPP78+cBYWjs8/g/j875AFzT9TR6Pgj5fKP8z/WsyijMo/ya2KUI1Myj+GI1NvqwbJPw==",
          "dtype": "f8"
         },
         "y": {
          "bdata": "QEFCQ0RFRkdISUpLTE1OT1BRUlNUVVZXWFlaW1xdXl9gYWJjZGVmZ2g=",
          "dtype": "i1"
         }
        }
       ],
       "layout": {
        "annotations": [
         {
          "showarrow": false,
          "text": "Durchschnitt: 0.297",
          "x": 0.29711853714606956,
          "xanchor": "center",
          "xref": "x",
          "y": 1,
          "yanchor": "bottom",
          "yref": "y domain"
         }
        ],
        "shapes": [
         {
          "line": {
           "color": "red",
           "dash": "dash"
          },
          "type": "line",
          "x0": 0.29711853714606956,
          "x1": 0.29711853714606956,
          "xref": "x",
          "y0": 0,
          "y1": 1,
          "yref": "y domain"
         }
        ],
        "showlegend": true,
        "template": {
         "data": {
          "bar": [
           {
            "error_x": {
             "color": "#2a3f5f"
            },
            "error_y": {
             "color": "#2a3f5f"
            },
            "marker": {
             "line": {
              "color": "#E5ECF6",
              "width": 0.5
             },
             "pattern": {
              "fillmode": "overlay",
              "size": 10,
              "solidity": 0.2
             }
            },
            "type": "bar"
           }
          ],
          "barpolar": [
           {
            "marker": {
             "line": {
              "color": "#E5ECF6",
              "width": 0.5
             },
             "pattern": {
              "fillmode": "overlay",
              "size": 10,
              "solidity": 0.2
             }
            },
            "type": "barpolar"
           }
          ],
          "carpet": [
           {
            "aaxis": {
             "endlinecolor": "#2a3f5f",
             "gridcolor": "white",
             "linecolor": "white",
             "minorgridcolor": "white",
             "startlinecolor": "#2a3f5f"
            },
            "baxis": {
             "endlinecolor": "#2a3f5f",
             "gridcolor": "white",
             "linecolor": "white",
             "minorgridcolor": "white",
             "startlinecolor": "#2a3f5f"
            },
            "type": "carpet"
           }
          ],
          "choropleth": [
           {
            "colorbar": {
             "outlinewidth": 0,
             "ticks": ""
            },
            "type": "choropleth"
           }
          ],
          "contour": [
           {
            "colorbar": {
             "outlinewidth": 0,
             "ticks": ""
            },
            "colorscale": [
             [
              0,
              "#0d0887"
             ],
             [
              0.1111111111111111,
              "#46039f"
             ],
             [
              0.2222222222222222,
              "#7201a8"
             ],
             [
              0.3333333333333333,
              "#9c179e"
             ],
             [
              0.4444444444444444,
              "#bd3786"
             ],
             [
              0.5555555555555556,
              "#d8576b"
             ],
             [
              0.6666666666666666,
              "#ed7953"
             ],
             [
              0.7777777777777778,
              "#fb9f3a"
             ],
             [
              0.8888888888888888,
              "#fdca26"
             ],
             [
              1,
              "#f0f921"
             ]
            ],
            "type": "contour"
           }
          ],
          "contourcarpet": [
           {
            "colorbar": {
             "outlinewidth": 0,
             "ticks": ""
            },
            "type": "contourcarpet"
           }
          ],
          "heatmap": [
           {
            "colorbar": {
             "outlinewidth": 0,
             "ticks": ""
            },
            "colorscale": [
             [
              0,
              "#0d0887"
             ],
             [
              0.1111111111111111,
              "#46039f"
             ],
             [
              0.2222222222222222,
              "#7201a8"
             ],
             [
              0.3333333333333333,
              "#9c179e"
             ],
             [
              0.4444444444444444,
              "#bd3786"
             ],
             [
              0.5555555555555556,
              "#d8576b"
             ],
             [
              0.6666666666666666,
              "#ed7953"
             ],
             [
              0.7777777777777778,
              "#fb9f3a"
             ],
             [
              0.8888888888888888,
              "#fdca26"
             ],
             [
              1,
              "#f0f921"
             ]
            ],
            "type": "heatmap"
           }
          ],
          "histogram": [
           {
            "marker": {
             "pattern": {
              "fillmode": "overlay",
              "size": 10,
              "solidity": 0.2
             }
            },
            "type": "histogram"
           }
          ],
          "histogram2d": [
           {
            "colorbar": {
             "outlinewidth": 0,
             "ticks": ""
            },
            "colorscale": [
             [
              0,
              "#0d0887"
             ],
             [
              0.1111111111111111,
              "#46039f"
             ],
             [
              0.2222222222222222,
              "#7201a8"
             ],
             [
              0.3333333333333333,
              "#9c179e"
             ],
             [
              0.4444444444444444,
              "#bd3786"
             ],
             [
              0.5555555555555556,
              "#d8576b"
             ],
             [
              0.6666666666666666,
              "#ed7953"
             ],
             [
              0.7777777777777778,
              "#fb9f3a"
             ],
             [
              0.8888888888888888,
              "#fdca26"
             ],
             [
              1,
              "#f0f921"
             ]
            ],
            "type": "histogram2d"
           }
          ],
          "histogram2dcontour": [
           {
            "colorbar": {
             "outlinewidth": 0,
             "ticks": ""
            },
            "colorscale": [
             [
              0,
              "#0d0887"
             ],
             [
              0.1111111111111111,
              "#46039f"
             ],
             [
              0.2222222222222222,
              "#7201a8"
             ],
             [
              0.3333333333333333,
              "#9c179e"
             ],
             [
              0.4444444444444444,
              "#bd3786"
             ],
             [
              0.5555555555555556,
              "#d8576b"
             ],
             [
              0.6666666666666666,
              "#ed7953"
             ],
             [
              0.7777777777777778,
              "#fb9f3a"
             ],
             [
              0.8888888888888888,
              "#fdca26"
             ],
             [
              1,
              "#f0f921"
             ]
            ],
            "type": "histogram2dcontour"
           }
          ],
          "mesh3d": [
           {
            "colorbar": {
             "outlinewidth": 0,
             "ticks": ""
            },
            "type": "mesh3d"
           }
          ],
          "parcoords": [
           {
            "line": {
             "colorbar": {
              "outlinewidth": 0,
              "ticks": ""
             }
            },
            "type": "parcoords"
           }
          ],
          "pie": [
           {
            "automargin": true,
            "type": "pie"
           }
          ],
          "scatter": [
           {
            "fillpattern": {
             "fillmode": "overlay",
             "size": 10,
             "solidity": 0.2
            },
            "type": "scatter"
           }
          ],
          "scatter3d": [
           {
            "line": {
             "colorbar": {
              "outlinewidth": 0,
              "ticks": ""
             }
            },
            "marker": {
             "colorbar": {
              "outlinewidth": 0,
              "ticks": ""
             }
            },
            "type": "scatter3d"
           }
          ],
          "scattercarpet": [
           {
            "marker": {
             "colorbar": {
              "outlinewidth": 0,
              "ticks": ""
             }
            },
            "type": "scattercarpet"
           }
          ],
          "scattergeo": [
           {
            "marker": {
             "colorbar": {
              "outlinewidth": 0,
              "ticks": ""
             }
            },
            "type": "scattergeo"
           }
          ],
          "scattergl": [
           {
            "marker": {
             "colorbar": {
              "outlinewidth": 0,
              "ticks": ""
             }
            },
            "type": "scattergl"
           }
          ],
          "scattermap": [
           {
            "marker": {
             "colorbar": {
              "outlinewidth": 0,
              "ticks": ""
             }
            },
            "type": "scattermap"
           }
          ],
          "scattermapbox": [
           {
            "marker": {
             "colorbar": {
              "outlinewidth": 0,
              "ticks": ""
             }
            },
            "type": "scattermapbox"
           }
          ],
          "scatterpolar": [
           {
            "marker": {
             "colorbar": {
              "outlinewidth": 0,
              "ticks": ""
             }
            },
            "type": "scatterpolar"
           }
          ],
          "scatterpolargl": [
           {
            "marker": {
             "colorbar": {
              "outlinewidth": 0,
              "ticks": ""
             }
            },
            "type": "scatterpolargl"
           }
          ],
          "scatterternary": [
           {
            "marker": {
             "colorbar": {
              "outlinewidth": 0,
              "ticks": ""
             }
            },
            "type": "scatterternary"
           }
          ],
          "surface": [
           {
            "colorbar": {
             "outlinewidth": 0,
             "ticks": ""
            },
            "colorscale": [
             [
              0,
              "#0d0887"
             ],
             [
              0.1111111111111111,
              "#46039f"
             ],
             [
              0.2222222222222222,
              "#7201a8"
             ],
             [
              0.3333333333333333,
              "#9c179e"
             ],
             [
              0.4444444444444444,
              "#bd3786"
             ],
             [
              0.5555555555555556,
              "#d8576b"
             ],
             [
              0.6666666666666666,
              "#ed7953"
             ],
             [
              0.7777777777777778,
              "#fb9f3a"
             ],
             [
              0.8888888888888888,
              "#fdca26"
             ],
             [
              1,
              "#f0f921"
             ]
            ],
            "type": "surface"
           }
          ],
          "table": [
           {
            "cells": {
             "fill": {
              "color": "#EBF0F8"
             },
             "line": {
              "color": "white"
             }
            },
            "header": {
             "fill": {
              "color": "#C8D4E3"
             },
             "line": {
              "color": "white"
             }
            },
            "type": "table"
           }
          ]
         },
         "layout": {
          "annotationdefaults": {
           "arrowcolor": "#2a3f5f",
           "arrowhead": 0,
           "arrowwidth": 1
          },
          "autotypenumbers": "strict",
          "coloraxis": {
           "colorbar": {
            "outlinewidth": 0,
            "ticks": ""
           }
          },
          "colorscale": {
           "diverging": [
            [
             0,
             "#8e0152"
            ],
            [
             0.1,
             "#c51b7d"
            ],
            [
             0.2,
             "#de77ae"
            ],
            [
             0.3,
             "#f1b6da"
            ],
            [
             0.4,
             "#fde0ef"
            ],
            [
             0.5,
             "#f7f7f7"
            ],
            [
             0.6,
             "#e6f5d0"
            ],
            [
             0.7,
             "#b8e186"
            ],
            [
             0.8,
             "#7fbc41"
            ],
            [
             0.9,
             "#4d9221"
            ],
            [
             1,
             "#276419"
            ]
           ],
           "sequential": [
            [
             0,
             "#0d0887"
            ],
            [
             0.1111111111111111,
             "#46039f"
            ],
            [
             0.2222222222222222,
             "#7201a8"
            ],
            [
             0.3333333333333333,
             "#9c179e"
            ],
            [
             0.4444444444444444,
             "#bd3786"
            ],
            [
             0.5555555555555556,
             "#d8576b"
            ],
            [
             0.6666666666666666,
             "#ed7953"
            ],
            [
             0.7777777777777778,
             "#fb9f3a"
            ],
            [
             0.8888888888888888,
             "#fdca26"
            ],
            [
             1,
             "#f0f921"
            ]
           ],
           "sequentialminus": [
            [
             0,
             "#0d0887"
            ],
            [
             0.1111111111111111,
             "#46039f"
            ],
            [
             0.2222222222222222,
             "#7201a8"
            ],
            [
             0.3333333333333333,
             "#9c179e"
            ],
            [
             0.4444444444444444,
             "#bd3786"
            ],
            [
             0.5555555555555556,
             "#d8576b"
            ],
            [
             0.6666666666666666,
             "#ed7953"
            ],
            [
             0.7777777777777778,
             "#fb9f3a"
            ],
            [
             0.8888888888888888,
             "#fdca26"
            ],
            [
             1,
             "#f0f921"
            ]
           ]
          },
          "colorway": [
           "#636efa",
           "#EF553B",
           "#00cc96",
           "#ab63fa",
           "#FFA15A",
           "#19d3f3",
           "#FF6692",
           "#B6E880",
           "#FF97FF",
           "#FECB52"
          ],
          "font": {
           "color": "#2a3f5f"
          },
          "geo": {
           "bgcolor": "white",
           "lakecolor": "white",
           "landcolor": "#E5ECF6",
           "showlakes": true,
           "showland": true,
           "subunitcolor": "white"
          },
          "hoverlabel": {
           "align": "left"
          },
          "hovermode": "closest",
          "mapbox": {
           "style": "light"
          },
          "paper_bgcolor": "white",
          "plot_bgcolor": "#E5ECF6",
          "polar": {
           "angularaxis": {
            "gridcolor": "white",
            "linecolor": "white",
            "ticks": ""
           },
           "bgcolor": "#E5ECF6",
           "radialaxis": {
            "gridcolor": "white",
            "linecolor": "white",
            "ticks": ""
           }
          },
          "scene": {
           "xaxis": {
            "backgroundcolor": "#E5ECF6",
            "gridcolor": "white",
            "gridwidth": 2,
            "linecolor": "white",
            "showbackground": true,
            "ticks": "",
            "zerolinecolor": "white"
           },
           "yaxis": {
            "backgroundcolor": "#E5ECF6",
            "gridcolor": "white",
            "gridwidth": 2,
            "linecolor": "white",
            "showbackground": true,
            "ticks": "",
            "zerolinecolor": "white"
           },
           "zaxis": {
            "backgroundcolor": "#E5ECF6",
            "gridcolor": "white",
            "gridwidth": 2,
            "linecolor": "white",
            "showbackground": true,
            "ticks": "",
            "zerolinecolor": "white"
           }
          },
          "shapedefaults": {
           "line": {
            "color": "#2a3f5f"
           }
          },
          "ternary": {
           "aaxis": {
            "gridcolor": "white",
            "linecolor": "white",
            "ticks": ""
           },
           "baxis": {
            "gridcolor": "white",
            "linecolor": "white",
            "ticks": ""
           },
           "bgcolor": "#E5ECF6",
           "caxis": {
            "gridcolor": "white",
            "linecolor": "white",
            "ticks": ""
           }
          },
          "title": {
           "x": 0.05
          },
          "xaxis": {
           "automargin": true,
           "gridcolor": "white",
           "linecolor": "white",
           "ticks": "",
           "title": {
            "standoff": 15
           },
           "zerolinecolor": "white",
           "zerolinewidth": 2
          },
          "yaxis": {
           "automargin": true,
           "gridcolor": "white",
           "linecolor": "white",
           "ticks": "",
           "title": {
            "standoff": 15
           },
           "zerolinecolor": "white",
           "zerolinewidth": 2
          }
         }
        },
        "title": {
         "text": "Silhouette-Plot für Cluster"
        },
        "xaxis": {
         "title": {
          "text": "Silhouette-Koeffizient"
         }
        },
        "yaxis": {
         "title": {
          "text": "Cluster"
         }
        }
       }
      },
      "image/png": "[encoded data removed]"
     },
     "metadata": {},
     "output_type": "display_data"
    }
   ],
   "source": [
    "import os\n",
    "import numpy as np\n",
    "import pandas as pd\n",
    "from scipy.stats import zscore\n",
    "from sklearn.ensemble import IsolationForest\n",
    "from sklearn.cluster import KMeans, DBSCAN\n",
    "from sklearn.metrics import silhouette_score, silhouette_samples\n",
    "from sklearn.decomposition import PCA\n",
    "from sklearn.preprocessing import StandardScaler\n",
    "from hdbscan import HDBSCAN\n",
    "import matplotlib.pyplot as plt\n",
    "import plotly.express as px\n",
    "import plotly.graph_objects as go\n",
    "import logging\n",
    "import chardet\n",
    "\n",
    "# Set up logging\n",
    "logging.basicConfig(level=logging.INFO, filename='clustering_log.txt', format='%(asctime)s - %(levelname)s - %(message)s')\n",
    "\n",
    "class BatchClustering:\n",
    "    def __init__(self, data_dir, method=\"kmeans\", n_clusters=3, var_threshold=0.90, min_components=2):\n",
    "        self.data_dir = data_dir\n",
    "        self.method = method.lower()\n",
    "        self.n_clusters = n_clusters\n",
    "        self.var_threshold = var_threshold\n",
    "        self.min_components = min_components\n",
    "        self.batches = {}  # raw DataFrames by batch\n",
    "        self.features = None  # summary feature DataFrame\n",
    "        self.clean_features = None\n",
    "        self.scaler = StandardScaler()\n",
    "        self.pca = PCA(n_components=var_threshold, svd_solver=\"auto\", random_state=0)\n",
    "        self.labels_ = None\n",
    "        self.silhouette_scores_ = None\n",
    "        logging.info(f\"Initialized BatchClustering with parameters: {vars(self)}\")\n",
    "\n",
    "    def detect_encoding(self, file_path):\n",
    "        \"\"\"Erkennung der Dateikodierung\"\"\"\n",
    "        try:\n",
    "            with open(file_path, 'rb') as f:\n",
    "                result = chardet.detect(f.read(10000))\n",
    "            encoding = result['encoding'] or 'utf-8'\n",
    "            logging.info(f\"Erkannte Kodierung für {file_path}: {encoding}\")\n",
    "            return encoding\n",
    "        except Exception as e:\n",
    "            logging.error(f\"Fehler bei der Kodierungserkennung für {file_path}: {e}\")\n",
    "            return 'utf-8'\n",
    "\n",
    "    def load_batches(self):\n",
    "        \"\"\"Laden aller .txt-Dateien aus dem angegebenen Verzeichnis\"\"\"\n",
    "        if not os.path.exists(self.data_dir):\n",
    "            logging.error(f\"Verzeichnis {self.data_dir} existiert nicht.\")\n",
    "            raise FileNotFoundError(f\"Verzeichnis {self.data_dir} existiert nicht.\")\n",
    "\n",
    "        required_cols = ['c', 'T_PM', 'd10', 'd50', 'd90', 'T_TM', 'mf_PM', 'mf_TM', \n",
    "                        'Q_g', 'w_crystal', 'c_in', 'T_PM_in', 'T_TM_in']\n",
    "        separators = ['\\t', ',', ';', ' ']\n",
    "\n",
    "        for file in os.listdir(self.data_dir):\n",
    "            if not file.endswith(\".txt\"):\n",
    "                continue\n",
    "            file_path = os.path.join(self.data_dir, file)\n",
    "            try:\n",
    "                encoding = self.detect_encoding(file_path)\n",
    "                with open(file_path, 'r', encoding=encoding, errors='ignore') as f:\n",
    "                    first_lines = [f.readline().strip() for _ in range(5)]\n",
    "                logging.info(f\"Erste Zeilen von {file}: {first_lines}\")\n",
    "\n",
    "                df = None\n",
    "                for sep in separators:\n",
    "                    try:\n",
    "                        df = pd.read_csv(file_path, sep=sep, encoding=encoding, skipinitialspace=True)\n",
    "                        if len(df.columns) > 1:\n",
    "                            logging.info(f\"Erfolgreich geladen mit Trennzeichen '{sep}' für {file}\")\n",
    "                            break\n",
    "                    except Exception as e:\n",
    "                        logging.warning(f\"Fehler mit Trennzeichen '{sep}' für {file}: {e}\")\n",
    "                \n",
    "                if df is None or df.empty:\n",
    "                    logging.warning(f\"Datei {file} ist leer oder hat ein ungültiges Format.\")\n",
    "                    continue\n",
    "\n",
    "                missing_cols = [col for col in required_cols if col not in df.columns]\n",
    "                if missing_cols:\n",
    "                    logging.warning(f\"Datei {file} fehlt folgende Spalten: {missing_cols}\")\n",
    "                    continue\n",
    "\n",
    "                if df.select_dtypes(include=np.number).empty:\n",
    "                    logging.warning(f\"Datei {file} enthält keine numerischen Daten.\")\n",
    "                    continue\n",
    "\n",
    "                self.batches[file] = df\n",
    "                logging.info(f\"Geladen {file} mit Shape {df.shape}, Spalten: {list(df.columns)}\")\n",
    "            except Exception as e:\n",
    "                logging.error(f\"Fehler beim Laden von {file}: {e}\")\n",
    "\n",
    "        if not self.batches:\n",
    "            logging.error(\"Keine gültigen Daten geladen.\")\n",
    "            raise ValueError(\"Keine gültigen Daten geladen.\")\n",
    "\n",
    "    def extract_features(self, steady_frac: float = 1.0):\n",
    "        \"\"\"Extrahieren von Features aus jeder Batch\"\"\"\n",
    "        rows = []\n",
    "        for name, df in self.batches.items():\n",
    "            try:\n",
    "                df = df.fillna(df.mean(numeric_only=True))\n",
    "                n_ss = max(1, int(len(df) * steady_frac))\n",
    "                ss = df.tail(n_ss)\n",
    "                \n",
    "                if ss['d50'].std() / ss['d50'].mean() > 0.1:\n",
    "                    logging.warning(f\"Batch {name} möglicherweise nicht im stabilen Zustand (hohe Varianz in d50)\")\n",
    "\n",
    "                feature_dict = {'batch': name}\n",
    "                feature_dict['avg_d10'] = ss['d10'].mean()\n",
    "                feature_dict['avg_d50'] = ss['d50'].mean()\n",
    "                feature_dict['avg_d90'] = ss['d90'].mean()\n",
    "                feature_dict['avg_c'] = ss['c'].mean()\n",
    "                feature_dict['avg_T_PM'] = ss['T_PM'].mean()\n",
    "                feature_dict['avg_T_TM'] = ss['T_TM'].mean()\n",
    "                feature_dict['avg_mf_PM'] = df['mf_PM'].mean()\n",
    "                feature_dict['avg_mf_TM'] = df['mf_TM'].mean()\n",
    "                feature_dict['avg_Q_g'] = df['Q_g'].mean()\n",
    "                feature_dict['avg_w_crystal'] = df['w_crystal'].mean()\n",
    "                feature_dict['avg_c_in'] = df['c_in'].mean()\n",
    "                feature_dict['avg_T_PM_in'] = df['T_PM_in'].mean()\n",
    "                feature_dict['avg_T_TM_in'] = df['T_TM_in'].mean()\n",
    "                rows.append(feature_dict)\n",
    "            except Exception as e:\n",
    "                logging.error(f\"Fehler beim Extrahieren von Features aus {name}: {e}\")\n",
    "\n",
    "        self.features = pd.DataFrame(rows)\n",
    "        self.clean_features = self.features.copy()\n",
    "        logging.info(f\"Features für {len(self.features)} Batches extrahiert\")\n",
    "\n",
    "    def remove_outliers(self, z_thresh=3.0, iso_frac=0.05):\n",
    "        \"\"\"Entfernen von Ausreißern mit Z-Score und Isolation Forest\"\"\"\n",
    "        df = self.clean_features.copy()\n",
    "        try:\n",
    "            df_z = df.drop(columns=['batch']).apply(zscore)\n",
    "            mask_z = (np.abs(df_z) < z_thresh).all(axis=1)\n",
    "            df = df[mask_z]\n",
    "            logging.info(f\"{len(self.clean_features) - len(df)} Ausreißer mit Z-Score entfernt\")\n",
    "\n",
    "            iso = IsolationForest(contamination=iso_frac, random_state=0)\n",
    "            iso_mask = iso.fit_predict(df.drop(columns=['batch'])) == 1\n",
    "            df = df[iso_mask]\n",
    "            logging.info(f\"{len(self.clean_features) - len(df)} Ausreißer mit Isolation Forest entfernt\")\n",
    "\n",
    "            removed = self.features[~self.features['batch'].isin(df['batch'])]['batch']\n",
    "            logging.info(f\"Entfernte Batches als Ausreißer: {removed.tolist()}\")\n",
    "            self.clean_features = df\n",
    "            return df\n",
    "        except Exception as e:\n",
    "            logging.error(f\"Fehler beim Entfernen von Ausreißern: {e}\")\n",
    "            return self.clean_features\n",
    "\n",
    "    def prepare(self):\n",
    "        \"\"\"Daten für Clustering vorbereiten\"\"\"\n",
    "        try:\n",
    "            X = self.clean_features.drop(columns=['batch']).values\n",
    "            self.X_scaled = self.scaler.fit_transform(X)\n",
    "            logging.info(f\"Daten skaliert mit Shape {self.X_scaled.shape}\")\n",
    "        except Exception as e:\n",
    "            logging.error(f\"Fehler bei der Datenaufbereitung: {e}\")\n",
    "\n",
    "    def run_pca(self, show=True):\n",
    "        \"\"\"PCA anwenden und Ergebnisse visualisieren\"\"\"\n",
    "        try:\n",
    "            n_components = max(self.min_components, int(self.var_threshold * self.X_scaled.shape[1]))\n",
    "            self.pca.n_components = n_components\n",
    "            self.X_use = self.pca.fit_transform(self.X_scaled)\n",
    "            var_sum = self.pca.explained_variance_ratio_.sum() * 100\n",
    "            logging.info(f\"PCA behielt {self.X_use.shape[1]} Komponenten (kumulative Varianz {var_sum:.1f}%)\")\n",
    "\n",
    "            if show and self.X_use.shape[1] >= 2:\n",
    "                fig = px.scatter(\n",
    "                    x=self.X_use[:, 0], y=self.X_use[:, 1],\n",
    "                    labels={'x': f'PC1 ({self.pca.explained_variance_ratio_[0]*100:.1f}%)',\n",
    "                            'y': f'PC2 ({self.pca.explained_variance_ratio_[1]*100:.1f}%)'},\n",
    "                    title=\"PCA (Raw)\"\n",
    "                )\n",
    "                fig.show()\n",
    "            elif show and self.X_use.shape[1] >= 3:\n",
    "                fig = px.scatter_3d(\n",
    "                    x=self.X_use[:, 0], y=self.X_use[:, 1], z=self.X_use[:, 2],\n",
    "                    labels={'x': f'PC1 ({self.pca.explained_variance_ratio_[0]*100:.1f}%)',\n",
    "                            'y': f'PC2 ({self.pca.explained_variance_ratio_[1]*100:.1f}%)',\n",
    "                            'z': f'PC3 ({self.pca.explained_variance_ratio_[2]*100:.1f}%)'},\n",
    "                    title=\"PCA (3D Raw)\"\n",
    "                )\n",
    "                fig.show()\n",
    "\n",
    "            return self.X_use\n",
    "        except Exception as e:\n",
    "            logging.error(f\"Fehler beim Ausführen von PCA: {e}\")\n",
    "            return None\n",
    "\n",
    "    def find_k(self, max_k=10, show_elbow=True):\n",
    "        \"\"\"Optimale Anzahl an Clustern finden\"\"\"\n",
    "        try:\n",
    "            Ks = range(2, max_k + 1)\n",
    "            inertias, silhs = [], []\n",
    "            for k in Ks:\n",
    "                km = KMeans(n_clusters=k, random_state=0, n_init=10)\n",
    "                lbl = km.fit_predict(self.X_use)\n",
    "                inertias.append(km.inertia_)\n",
    "                silhs.append(silhouette_score(self.X_use, lbl))\n",
    "            \n",
    "            best_k = Ks[np.argmax(silhs)]\n",
    "            logging.info(f\"Bester k = {best_k}, Silhouette = {max(silhs):.3f}\")\n",
    "\n",
    "            if show_elbow:\n",
    "                plt.figure(figsize=(6, 4))\n",
    "                plt.plot(Ks, inertias, 'o-k')\n",
    "                plt.xlabel('Anzahl Cluster (k)')\n",
    "                plt.ylabel('Inertia')\n",
    "                plt.title('Elbow-Methode für optimales k')\n",
    "                plt.grid(True)\n",
    "                plt.show()\n",
    "\n",
    "            return best_k\n",
    "        except Exception as e:\n",
    "            logging.error(f\"Fehler beim Finden von k: {e}\")\n",
    "            return None\n",
    "\n",
    "    def compute_silhouette_per_cluster(self):\n",
    "        \"\"\"Silhouette-Score pro Cluster berechnen\"\"\"\n",
    "        try:\n",
    "            if len(set(self.labels_)) <= 1 or (-1 in self.labels_ and len(set(self.labels_)) <= 2):\n",
    "                logging.warning(\"Zu wenige Cluster für Silhouette-Score-Berechnung\")\n",
    "                return None\n",
    "\n",
    "            self.silhouette_scores_ = silhouette_samples(self.X_use, self.labels_)\n",
    "            cluster_silhouettes = {}\n",
    "            for cluster_id in np.unique(self.labels_):\n",
    "                if cluster_id == -1:\n",
    "                    continue\n",
    "                mask = self.labels_ == cluster_id\n",
    "                cluster_silhouettes[cluster_id] = np.mean(self.silhouette_scores_[mask])\n",
    "                logging.info(f\"Silhouette-Score für Cluster {cluster_id}: {cluster_silhouettes[cluster_id]:.3f}\")\n",
    "\n",
    "            sil_avg = silhouette_score(self.X_use, self.labels_)\n",
    "            logging.info(f\"Durchschnittlicher Silhouette-Score: {sil_avg:.3f}\")\n",
    "            return cluster_silhouettes, sil_avg\n",
    "        except Exception as e:\n",
    "            logging.error(f\"Fehler beim Berechnen des Silhouette-Scores: {e}\")\n",
    "            return None\n",
    "\n",
    "    def cluster(self):\n",
    "        \"\"\"Clustering mit der angegebenen Methode durchführen\"\"\"\n",
    "        try:\n",
    "            if self.method == \"kmeans\":\n",
    "                model = KMeans(n_clusters=self.n_clusters, random_state=0, n_init=10)\n",
    "                self.labels_ = model.fit_predict(self.X_use)\n",
    "            elif self.method == \"dbscan\":\n",
    "                model = DBSCAN(eps=0.5, min_samples=5)\n",
    "                self.labels_ = model.fit_predict(self.X_use)\n",
    "            elif self.method == \"hdbscan\":\n",
    "                model = HDBSCAN(min_cluster_size=5)\n",
    "                self.labels_ = model.fit_predict(self.X_use)\n",
    "            else:\n",
    "                logging.error(f\"Unbekannte Methode: {self.method}\")\n",
    "                raise ValueError(f\"Unbekannte Methode: {self.method}\")\n",
    "\n",
    "            self.clean_features['cluster'] = self.labels_\n",
    "            ncl = len(set(self.labels_)) - (1 if -1 in self.labels_ else 0)\n",
    "            if ncl > 1:\n",
    "                sil_avg = silhouette_score(self.X_use, self.labels_)\n",
    "                logging.info(f\"{self.method.upper()}: {ncl} Cluster, durchschnittlicher Silhouette-Score={sil_avg:.3f}\")\n",
    "                self.compute_silhouette_per_cluster()\n",
    "                self.plot_silhouette()\n",
    "            else:\n",
    "                logging.warning(\"Zu wenige Cluster für Silhouette-Score-Berechnung\")\n",
    "\n",
    "            return self.labels_\n",
    "        except Exception as e:\n",
    "            logging.error(f\"Fehler beim Clustering: {e}\")\n",
    "            return None\n",
    "\n",
    "    def plot_silhouette(self):\n",
    "        \"\"\"Silhouette-Plot für Cluster erstellen\"\"\"\n",
    "        try:\n",
    "            if self.silhouette_scores_ is None or len(set(self.labels_)) <= 1:\n",
    "                logging.warning(\"Keine Silhouette-Scores verfügbar oder zu wenige Cluster\")\n",
    "                return\n",
    "\n",
    "            fig = go.Figure()\n",
    "            y_lower = 10\n",
    "            unique_labels = sorted([lbl for lbl in np.unique(self.labels_) if lbl != -1])\n",
    "            for cluster_id in unique_labels:\n",
    "                mask = self.labels_ == cluster_id\n",
    "                cluster_scores = np.sort(self.silhouette_scores_[mask])[::-1]\n",
    "                y_upper = y_lower + len(cluster_scores)\n",
    "                fig.add_trace(go.Scatter(\n",
    "                    x=cluster_scores,\n",
    "                    y=np.arange(y_lower, y_upper),\n",
    "                    mode='lines',\n",
    "                    fill='tozerox',\n",
    "                    name=f'Cluster {cluster_id}',\n",
    "                    text=[f'Cluster {cluster_id}' for _ in cluster_scores]\n",
    "                ))\n",
    "                y_lower = y_upper + 10\n",
    "\n",
    "            avg_score = silhouette_score(self.X_use, self.labels_)\n",
    "            fig.add_vline(x=avg_score, line_dash=\"dash\", line_color=\"red\", \n",
    "                          annotation_text=f\"Durchschnitt: {avg_score:.3f}\", annotation_position=\"top\")\n",
    "            fig.update_layout(\n",
    "                title=\"Silhouette-Plot für Cluster\",\n",
    "                xaxis_title=\"Silhouette-Koeffizient\",\n",
    "                yaxis_title=\"Cluster\",\n",
    "                showlegend=True\n",
    "            )\n",
    "            fig.show()\n",
    "        except Exception as e:\n",
    "            logging.error(f\"Fehler beim Erstellen des Silhouette-Plots: {e}\")\n",
    "\n",
    "    def plot_clusters(self):\n",
    "        \"\"\"Cluster im PCA-Raum visualisieren\"\"\"\n",
    "        try:\n",
    "            pcs = self.X_use\n",
    "            labels = self.labels_\n",
    "            fig = px.scatter(\n",
    "                x=pcs[:, 0], y=pcs[:, 1], color=labels.astype(str),\n",
    "                labels={'x': f'PC1 ({self.pca.explained_variance_ratio_[0]*100:.1f}%)',\n",
    "                        'y': f'PC2 ({self.pca.explained_variance_ratio_[1]*100:.1f}%)'},\n",
    "                title=f\"{self.method.upper()} Cluster\"\n",
    "            )\n",
    "            fig.update_layout(legend_title=\"Cluster\")\n",
    "            fig.show()\n",
    "        except Exception as e:\n",
    "            logging.error(f\"Fehler beim Plotten der Cluster: {e}\")\n",
    "\n",
    "    def get_cluster_assignments(self):\n",
    "        \"\"\"Cluster-Zuweisungen mit Silhouette-Scores ausgeben\"\"\"\n",
    "        try:\n",
    "            cluster_dict = {}\n",
    "            for cluster_id in np.unique(self.labels_):\n",
    "                mask = self.clean_features['cluster'] == cluster_id\n",
    "                batch_names = self.clean_features.loc[mask, 'batch'].tolist()\n",
    "                cluster_dict[cluster_id] = batch_names\n",
    "\n",
    "            logging.info(\"=== Cluster-Zuweisungen ===\")\n",
    "            for cluster_id, batches in sorted(cluster_dict.items()):\n",
    "                logging.info(f\"Cluster {cluster_id}: {len(batches)} Batches\")\n",
    "                examples = batches[:3] + ([\"...\"] if len(batches) > 3 else [])\n",
    "                logging.info(f\"  Beispiele: {examples}\")\n",
    "                if self.silhouette_scores_ is not None and cluster_id != -1:\n",
    "                    mask = self.labels_ == cluster_id\n",
    "                    sil_score = np.mean(self.silhouette_scores_[mask])\n",
    "                    logging.info(f\"  Silhouette-Score: {sil_score:.3f}\")\n",
    "\n",
    "            return cluster_dict\n",
    "        except Exception as e:\n",
    "            logging.error(f\"Fehler beim Abrufen der Cluster-Zuweisungen: {e}\")\n",
    "            return None\n",
    "\n",
    "if __name__ == \"__main__\":\n",
    "    try:\n",
    "        bc = BatchClustering(\n",
    "            data_dir=\"Data\",\n",
    "            method=\"kmeans\",\n",
    "            n_clusters=2,\n",
    "            var_threshold=0.90,\n",
    "            min_components=2\n",
    "        )\n",
    "        bc.load_batches()\n",
    "        bc.extract_features(steady_frac=1.0)\n",
    "        bc.remove_outliers(z_thresh=3.0, iso_frac=0.05)\n",
    "        bc.prepare()\n",
    "        bc.run_pca(show=True)\n",
    "        if bc.method == \"kmeans\":\n",
    "            bc.n_clusters = bc.find_k(max_k=8)\n",
    "        bc.cluster()\n",
    "        bc.plot_clusters()\n",
    "        bc.plot_silhouette()\n",
    "        bc.get_cluster_assignments()\n",
    "    except Exception as e:\n",
    "        logging.error(f\"Fehler in der Hauptausführung: {e}\")"
   ]
  },
  {
   "cell_type": "code",
   "execution_count": 20,
   "id": "36a5d0d2-34fe-4603-82cf-47e78f54d6e1",
   "metadata": {},
   "outputs": [],
   "source": [
    "# cluster_narx_trainer.py\n",
    "\n",
    "import os\n",
    "import numpy as np\n",
    "import pandas as pd\n",
    "from tensorflow.keras.models import Sequential\n",
    "from tensorflow.keras.layers import LSTM, Dense, Dropout, BatchNormalization\n",
    "from tensorflow.keras.optimizers import Adam\n",
    "from tensorflow.keras.losses import Huber\n",
    "from tensorflow.keras.callbacks import EarlyStopping\n",
    "from sklearn.preprocessing import MinMaxScaler\n",
    "import matplotlib.pyplot as plt\n",
    "import random\n",
    "from tensorflow.keras.regularizers import l2\n",
    "\n",
    "class ClusterNARXTrainer:\n",
    "    def __init__(self, batch_clustering, cluster_id=0, n_steps=5):\n",
    "        self.bc = batch_clustering\n",
    "        self.cluster_id = cluster_id\n",
    "        self.n_steps = n_steps\n",
    "        self.model = None\n",
    "        self.scaler_x = MinMaxScaler()\n",
    "        self.scaler_y = MinMaxScaler()\n",
    "\n",
    "    def get_cluster_batches(self):\n",
    "        cluster_files = self.bc.clean_features[\n",
    "            self.bc.clean_features['cluster'] == self.cluster_id]['batch'].tolist()\n",
    "        return [self.bc.batches[f] for f in cluster_files if f in self.bc.batches]\n",
    "\n",
    "    def split_files(self, files, train_frac=0.9):\n",
    "        random.shuffle(files)\n",
    "        split_idx = int(len(files) * train_frac)\n",
    "        return files[:split_idx], files[split_idx:]\n",
    "\n",
    "    def prepare_sequences(self, files):\n",
    "        X_list, y_list = [], []\n",
    "        for df in files:\n",
    "            df = df.reset_index(drop=True)\n",
    "            inputs = df[['mf_PM', 'mf_TM', 'Q_g', 'w_crystal', 'c_in', 'T_PM_in', 'T_TM_in']]\n",
    "            targets = df[['T_PM', 'c', 'd10', 'd50', 'd90', 'T_TM']]\n",
    "\n",
    "            x_scaled = pd.DataFrame(self.scaler_x.transform(inputs), columns=inputs.columns)\n",
    "            y_scaled = pd.DataFrame(self.scaler_y.transform(targets), columns=targets.columns)\n",
    "\n",
    "            for t in range(len(x_scaled) - self.n_steps):\n",
    "                x_seq = x_scaled.iloc[t:t+self.n_steps].values\n",
    "                y_target = y_scaled.iloc[t+self.n_steps].values\n",
    "                X_list.append(x_seq)\n",
    "                y_list.append(y_target)\n",
    "\n",
    "        return np.array(X_list), np.array(y_list)\n",
    "\n",
    "    def build_model(self):\n",
    "        model = Sequential([\n",
    "            LSTM(128, activation='tanh', return_sequences=True, input_shape=(self.n_steps, 7)),\n",
    "            BatchNormalization(),\n",
    "            Dropout(0.5),\n",
    "            LSTM(64),\n",
    "            BatchNormalization(),\n",
    "            Dropout(0.5),\n",
    "            Dense(64, activation='relu', kernel_regularizer=l2(0.001)),\n",
    "            Dense(6)\n",
    "        ])\n",
    "        model.compile(optimizer=Adam(learning_rate=0.0001),\n",
    "                      loss=Huber(),\n",
    "                      metrics=['mae'])\n",
    "        self.model = model\n",
    "\n",
    "    def train_model(self, X_train, y_train, X_val, y_val):\n",
    "        early_stop = EarlyStopping(monitor='val_loss', patience=10, restore_best_weights=True)\n",
    "        history = self.model.fit(\n",
    "            X_train, y_train,\n",
    "            validation_data=(X_val, y_val),\n",
    "            epochs=300,\n",
    "            batch_size=32,\n",
    "            callbacks=[early_stop],\n",
    "            verbose=1\n",
    "        )\n",
    "        return history\n",
    "\n",
    "    def evaluate_and_plot(self, X_test, y_test, history):\n",
    "        preds = self.model.predict(X_test)\n",
    "        y_test_inv = self.scaler_y.inverse_transform(y_test)\n",
    "        preds_inv = self.scaler_y.inverse_transform(preds)\n",
    "\n",
    "        # d50\n",
    "        plt.figure(figsize=(10, 4))\n",
    "        plt.plot(y_test_inv[:1000, 3], label='Actual d50')\n",
    "        plt.plot(preds_inv[:1000, 3], label='Predicted d50', linestyle='--')\n",
    "        plt.title(\"Prediction vs Actual - d50\")\n",
    "        plt.xlabel(\"Time Step\")\n",
    "        plt.ylabel(\"d50\")\n",
    "        plt.legend()\n",
    "        plt.grid()\n",
    "        plt.show()\n",
    "\n",
    "        # d10\n",
    "        plt.figure(figsize=(10, 4))\n",
    "        plt.plot(y_test_inv[:1000, 2], label='Actual d10')\n",
    "        plt.plot(preds_inv[:1000, 2], label='Predicted d10', linestyle='--')\n",
    "        plt.title(\"Prediction vs Actual - d10\")\n",
    "        plt.xlabel(\"Time Step\")\n",
    "        plt.ylabel(\"d10\")\n",
    "        plt.legend()\n",
    "        plt.grid()\n",
    "        plt.show()\n",
    "\n",
    "        # d90\n",
    "        plt.figure(figsize=(10, 4))\n",
    "        plt.plot(y_test_inv[:1000, 4], label='Actual d90')\n",
    "        plt.plot(preds_inv[:1000, 4], label='Predicted d90', linestyle='--')\n",
    "        plt.title(\"Prediction vs Actual - d90\")\n",
    "        plt.xlabel(\"Time Step\")\n",
    "        plt.ylabel(\"d90\")\n",
    "        plt.legend()\n",
    "        plt.grid()\n",
    "        plt.show()\n",
    "\n",
    "        # Overfitting plot\n",
    "        plt.figure(figsize=(10, 4))\n",
    "        plt.plot(history.history['loss'], label='Training Loss')\n",
    "        plt.plot(history.history['val_loss'], label='Validation Loss')\n",
    "        plt.title(\"Training vs Validation Loss\")\n",
    "        plt.xlabel(\"Epoch\")\n",
    "        plt.ylabel(\"Loss\")\n",
    "        plt.legend()\n",
    "        plt.grid()\n",
    "        plt.show()\n",
    "\n",
    "    def run(self):\n",
    "        cluster_batches = self.get_cluster_batches()\n",
    "        print(f\"📦 Cluster {self.cluster_id}: {len(cluster_batches)} files\")\n",
    "\n",
    "        # Fit scalers on all data\n",
    "        all_df = pd.concat(cluster_batches, ignore_index=True)\n",
    "        self.scaler_x.fit(all_df[['mf_PM', 'mf_TM', 'Q_g', 'w_crystal', 'c_in', 'T_PM_in', 'T_TM_in']])\n",
    "        self.scaler_y.fit(all_df[['T_PM', 'c', 'd10', 'd50', 'd90', 'T_TM']])\n",
    "\n",
    "        # Split files\n",
    "        train_files, val_files = self.split_files(cluster_batches, train_frac=0.9)\n",
    "\n",
    "        # Prepare sequences\n",
    "        X_train, y_train = self.prepare_sequences(train_files)\n",
    "        X_val, y_val = self.prepare_sequences(val_files)\n",
    "\n",
    "        # Build and train model\n",
    "        self.build_model()\n",
    "        history = self.train_model(X_train, y_train, X_val, y_val)\n",
    "\n",
    "        # Evaluation\n",
    "        self.evaluate_and_plot(X_val, y_val, history)\n",
    "\n",
    "        return history"
   ]
  },
  {
   "cell_type": "code",
   "execution_count": 21,
   "id": "7983c6e5-0706-4377-94f3-2317b7855c99",
   "metadata": {},
   "outputs": [
    {
     "name": "stdout",
     "output_type": "stream",
     "text": [
      "📦 Cluster 0: 44 files\n",
      "Epoch 1/300\n"
     ]
    },
    {
     "name": "stderr",
     "output_type": "stream",
     "text": [
      "C:\\Users\\Abualrejal\\anaconda3\\envs\\PAS\\lib\\site-packages\\keras\\src\\layers\\rnn\\rnn.py:200: UserWarning:\n",
      "\n",
      "Do not pass an `input_shape`/`input_dim` argument to a layer. When using Sequential models, prefer using an `Input(shape)` object as the first layer in the model instead.\n",
      "\n"
     ]
    },
    {
     "name": "stdout",
     "output_type": "stream",
     "text": [
      "\u001b[1m1213/1213\u001b[0m \u001b[32m━━━━━━━━━━━━━━━━━━━━\u001b[0m\u001b[37m\u001b[0m \u001b[1m12s\u001b[0m 7ms/step - loss: 0.3842 - mae: 0.6595 - val_loss: 0.0808 - val_mae: 0.1977\n",
      "Epoch 2/300\n",
      "\u001b[1m1213/1213\u001b[0m \u001b[32m━━━━━━━━━━━━━━━━━━━━\u001b[0m\u001b[37m\u001b[0m \u001b[1m8s\u001b[0m 7ms/step - loss: 0.1089 - mae: 0.2722 - val_loss: 0.0556 - val_mae: 0.1348\n",
      "Epoch 3/300\n",
      "\u001b[1m1213/1213\u001b[0m \u001b[32m━━━━━━━━━━━━━━━━━━━━\u001b[0m\u001b[37m\u001b[0m \u001b[1m8s\u001b[0m 7ms/step - loss: 0.0680 - mae: 0.1868 - val_loss: 0.0417 - val_mae: 0.1070\n",
      "Epoch 4/300\n",
      "\u001b[1m1213/1213\u001b[0m \u001b[32m━━━━━━━━━━━━━━━━━━━━\u001b[0m\u001b[37m\u001b[0m \u001b[1m9s\u001b[0m 7ms/step - loss: 0.0457 - mae: 0.1364 - val_loss: 0.0292 - val_mae: 0.0830\n",
      "Epoch 5/300\n",
      "\u001b[1m1213/1213\u001b[0m \u001b[32m━━━━━━━━━━━━━━━━━━━━\u001b[0m\u001b[37m\u001b[0m \u001b[1m9s\u001b[0m 7ms/step - loss: 0.0297 - mae: 0.0990 - val_loss: 0.0183 - val_mae: 0.0600\n",
      "Epoch 6/300\n",
      "\u001b[1m1213/1213\u001b[0m \u001b[32m━━━━━━━━━━━━━━━━━━━━\u001b[0m\u001b[37m\u001b[0m \u001b[1m8s\u001b[0m 7ms/step - loss: 0.0178 - mae: 0.0710 - val_loss: 0.0102 - val_mae: 0.0444\n",
      "Epoch 7/300\n",
      "\u001b[1m1213/1213\u001b[0m \u001b[32m━━━━━━━━━━━━━━━━━━━━\u001b[0m\u001b[37m\u001b[0m \u001b[1m8s\u001b[0m 7ms/step - loss: 0.0096 - mae: 0.0508 - val_loss: 0.0046 - val_mae: 0.0270\n",
      "Epoch 8/300\n",
      "\u001b[1m1213/1213\u001b[0m \u001b[32m━━━━━━━━━━━━━━━━━━━━\u001b[0m\u001b[37m\u001b[0m \u001b[1m8s\u001b[0m 7ms/step - loss: 0.0046 - mae: 0.0364 - val_loss: 0.0019 - val_mae: 0.0175\n",
      "Epoch 9/300\n",
      "\u001b[1m1213/1213\u001b[0m \u001b[32m━━━━━━━━━━━━━━━━━━━━\u001b[0m\u001b[37m\u001b[0m \u001b[1m8s\u001b[0m 7ms/step - loss: 0.0022 - mae: 0.0270 - val_loss: 8.4609e-04 - val_mae: 0.0116\n",
      "Epoch 10/300\n",
      "\u001b[1m1213/1213\u001b[0m \u001b[32m━━━━━━━━━━━━━━━━━━━━\u001b[0m\u001b[37m\u001b[0m \u001b[1m8s\u001b[0m 7ms/step - loss: 0.0013 - mae: 0.0218 - val_loss: 6.2104e-04 - val_mae: 0.0131\n",
      "Epoch 11/300\n",
      "\u001b[1m1213/1213\u001b[0m \u001b[32m━━━━━━━━━━━━━━━━━━━━\u001b[0m\u001b[37m\u001b[0m \u001b[1m8s\u001b[0m 7ms/step - loss: 9.1169e-04 - mae: 0.0192 - val_loss: 5.3179e-04 - val_mae: 0.0141\n",
      "Epoch 12/300\n",
      "\u001b[1m1213/1213\u001b[0m \u001b[32m━━━━━━━━━━━━━━━━━━━━\u001b[0m\u001b[37m\u001b[0m \u001b[1m8s\u001b[0m 7ms/step - loss: 8.4007e-04 - mae: 0.0183 - val_loss: 4.1332e-04 - val_mae: 0.0100\n",
      "Epoch 13/300\n",
      "\u001b[1m1213/1213\u001b[0m \u001b[32m━━━━━━━━━━━━━━━━━━━━\u001b[0m\u001b[37m\u001b[0m \u001b[1m8s\u001b[0m 7ms/step - loss: 7.8249e-04 - mae: 0.0176 - val_loss: 3.7580e-04 - val_mae: 0.0092\n",
      "Epoch 14/300\n",
      "\u001b[1m1213/1213\u001b[0m \u001b[32m━━━━━━━━━━━━━━━━━━━━\u001b[0m\u001b[37m\u001b[0m \u001b[1m9s\u001b[0m 7ms/step - loss: 6.9912e-04 - mae: 0.0168 - val_loss: 3.5780e-04 - val_mae: 0.0079\n",
      "Epoch 15/300\n",
      "\u001b[1m1213/1213\u001b[0m \u001b[32m━━━━━━━━━━━━━━━━━━━━\u001b[0m\u001b[37m\u001b[0m \u001b[1m9s\u001b[0m 7ms/step - loss: 6.7476e-04 - mae: 0.0164 - val_loss: 3.9784e-04 - val_mae: 0.0099\n",
      "Epoch 16/300\n",
      "\u001b[1m1213/1213\u001b[0m \u001b[32m━━━━━━━━━━━━━━━━━━━━\u001b[0m\u001b[37m\u001b[0m \u001b[1m9s\u001b[0m 7ms/step - loss: 6.0822e-04 - mae: 0.0158 - val_loss: 3.6209e-04 - val_mae: 0.0091\n",
      "Epoch 17/300\n",
      "\u001b[1m1213/1213\u001b[0m \u001b[32m━━━━━━━━━━━━━━━━━━━━\u001b[0m\u001b[37m\u001b[0m \u001b[1m9s\u001b[0m 7ms/step - loss: 6.2797e-04 - mae: 0.0155 - val_loss: 3.8177e-04 - val_mae: 0.0093\n",
      "Epoch 18/300\n",
      "\u001b[1m1213/1213\u001b[0m \u001b[32m━━━━━━━━━━━━━━━━━━━━\u001b[0m\u001b[37m\u001b[0m \u001b[1m8s\u001b[0m 7ms/step - loss: 6.5416e-04 - mae: 0.0156 - val_loss: 3.7295e-04 - val_mae: 0.0091\n",
      "Epoch 19/300\n",
      "\u001b[1m1213/1213\u001b[0m \u001b[32m━━━━━━━━━━━━━━━━━━━━\u001b[0m\u001b[37m\u001b[0m \u001b[1m9s\u001b[0m 7ms/step - loss: 6.2286e-04 - mae: 0.0151 - val_loss: 3.7225e-04 - val_mae: 0.0093\n",
      "Epoch 20/300\n",
      "\u001b[1m1213/1213\u001b[0m \u001b[32m━━━━━━━━━━━━━━━━━━━━\u001b[0m\u001b[37m\u001b[0m \u001b[1m8s\u001b[0m 7ms/step - loss: 6.3232e-04 - mae: 0.0149 - val_loss: 3.5323e-04 - val_mae: 0.0080\n",
      "Epoch 21/300\n",
      "\u001b[1m1213/1213\u001b[0m \u001b[32m━━━━━━━━━━━━━━━━━━━━\u001b[0m\u001b[37m\u001b[0m \u001b[1m9s\u001b[0m 7ms/step - loss: 5.7385e-04 - mae: 0.0147 - val_loss: 3.5653e-04 - val_mae: 0.0084\n",
      "Epoch 22/300\n",
      "\u001b[1m1213/1213\u001b[0m \u001b[32m━━━━━━━━━━━━━━━━━━━━\u001b[0m\u001b[37m\u001b[0m \u001b[1m8s\u001b[0m 7ms/step - loss: 5.6763e-04 - mae: 0.0142 - val_loss: 3.5776e-04 - val_mae: 0.0086\n",
      "Epoch 23/300\n",
      "\u001b[1m1213/1213\u001b[0m \u001b[32m━━━━━━━━━━━━━━━━━━━━\u001b[0m\u001b[37m\u001b[0m \u001b[1m9s\u001b[0m 7ms/step - loss: 5.5020e-04 - mae: 0.0140 - val_loss: 3.4912e-04 - val_mae: 0.0075\n",
      "Epoch 24/300\n",
      "\u001b[1m1213/1213\u001b[0m \u001b[32m━━━━━━━━━━━━━━━━━━━━\u001b[0m\u001b[37m\u001b[0m \u001b[1m9s\u001b[0m 7ms/step - loss: 5.4834e-04 - mae: 0.0138 - val_loss: 3.4560e-04 - val_mae: 0.0079\n",
      "Epoch 25/300\n",
      "\u001b[1m1213/1213\u001b[0m \u001b[32m━━━━━━━━━━━━━━━━━━━━\u001b[0m\u001b[37m\u001b[0m \u001b[1m9s\u001b[0m 7ms/step - loss: 5.4215e-04 - mae: 0.0137 - val_loss: 3.5818e-04 - val_mae: 0.0085\n",
      "Epoch 26/300\n",
      "\u001b[1m1213/1213\u001b[0m \u001b[32m━━━━━━━━━━━━━━━━━━━━\u001b[0m\u001b[37m\u001b[0m \u001b[1m9s\u001b[0m 7ms/step - loss: 5.4568e-04 - mae: 0.0137 - val_loss: 3.4558e-04 - val_mae: 0.0083\n",
      "Epoch 27/300\n",
      "\u001b[1m1213/1213\u001b[0m \u001b[32m━━━━━━━━━━━━━━━━━━━━\u001b[0m\u001b[37m\u001b[0m \u001b[1m8s\u001b[0m 7ms/step - loss: 5.7633e-04 - mae: 0.0135 - val_loss: 3.5035e-04 - val_mae: 0.0085\n",
      "Epoch 28/300\n",
      "\u001b[1m1213/1213\u001b[0m \u001b[32m━━━━━━━━━━━━━━━━━━━━\u001b[0m\u001b[37m\u001b[0m \u001b[1m9s\u001b[0m 7ms/step - loss: 5.0618e-04 - mae: 0.0130 - val_loss: 3.8442e-04 - val_mae: 0.0086\n",
      "Epoch 29/300\n",
      "\u001b[1m1213/1213\u001b[0m \u001b[32m━━━━━━━━━━━━━━━━━━━━\u001b[0m\u001b[37m\u001b[0m \u001b[1m9s\u001b[0m 8ms/step - loss: 5.4210e-04 - mae: 0.0134 - val_loss: 3.5225e-04 - val_mae: 0.0072\n",
      "Epoch 30/300\n",
      "\u001b[1m1213/1213\u001b[0m \u001b[32m━━━━━━━━━━━━━━━━━━━━\u001b[0m\u001b[37m\u001b[0m \u001b[1m9s\u001b[0m 7ms/step - loss: 5.5056e-04 - mae: 0.0130 - val_loss: 3.4577e-04 - val_mae: 0.0082\n",
      "Epoch 31/300\n",
      "\u001b[1m1213/1213\u001b[0m \u001b[32m━━━━━━━━━━━━━━━━━━━━\u001b[0m\u001b[37m\u001b[0m \u001b[1m9s\u001b[0m 7ms/step - loss: 5.4010e-04 - mae: 0.0129 - val_loss: 3.7858e-04 - val_mae: 0.0087\n",
      "Epoch 32/300\n",
      "\u001b[1m1213/1213\u001b[0m \u001b[32m━━━━━━━━━━━━━━━━━━━━\u001b[0m\u001b[37m\u001b[0m \u001b[1m9s\u001b[0m 7ms/step - loss: 5.1779e-04 - mae: 0.0127 - val_loss: 3.3310e-04 - val_mae: 0.0075\n",
      "Epoch 33/300\n",
      "\u001b[1m1213/1213\u001b[0m \u001b[32m━━━━━━━━━━━━━━━━━━━━\u001b[0m\u001b[37m\u001b[0m \u001b[1m9s\u001b[0m 7ms/step - loss: 4.9740e-04 - mae: 0.0125 - val_loss: 3.6024e-04 - val_mae: 0.0094\n",
      "Epoch 34/300\n",
      "\u001b[1m1213/1213\u001b[0m \u001b[32m━━━━━━━━━━━━━━━━━━━━\u001b[0m\u001b[37m\u001b[0m \u001b[1m9s\u001b[0m 7ms/step - loss: 4.9333e-04 - mae: 0.0125 - val_loss: 3.7304e-04 - val_mae: 0.0088\n",
      "Epoch 35/300\n",
      "\u001b[1m1213/1213\u001b[0m \u001b[32m━━━━━━━━━━━━━━━━━━━━\u001b[0m\u001b[37m\u001b[0m \u001b[1m16s\u001b[0m 13ms/step - loss: 5.0235e-04 - mae: 0.0125 - val_loss: 3.4713e-04 - val_mae: 0.0079\n",
      "Epoch 36/300\n",
      "\u001b[1m1213/1213\u001b[0m \u001b[32m━━━━━━━━━━━━━━━━━━━━\u001b[0m\u001b[37m\u001b[0m \u001b[1m225s\u001b[0m 185ms/step - loss: 5.4914e-04 - mae: 0.0125 - val_loss: 3.5091e-04 - val_mae: 0.0072\n",
      "Epoch 37/300\n",
      "\u001b[1m1213/1213\u001b[0m \u001b[32m━━━━━━━━━━━━━━━━━━━━\u001b[0m\u001b[37m\u001b[0m \u001b[1m9s\u001b[0m 8ms/step - loss: 4.8763e-04 - mae: 0.0121 - val_loss: 3.3853e-04 - val_mae: 0.0082\n",
      "Epoch 38/300\n",
      "\u001b[1m1213/1213\u001b[0m \u001b[32m━━━━━━━━━━━━━━━━━━━━\u001b[0m\u001b[37m\u001b[0m \u001b[1m9s\u001b[0m 7ms/step - loss: 4.9078e-04 - mae: 0.0122 - val_loss: 3.4670e-04 - val_mae: 0.0079\n",
      "Epoch 39/300\n",
      "\u001b[1m1213/1213\u001b[0m \u001b[32m━━━━━━━━━━━━━━━━━━━━\u001b[0m\u001b[37m\u001b[0m \u001b[1m9s\u001b[0m 8ms/step - loss: 4.8949e-04 - mae: 0.0121 - val_loss: 3.2269e-04 - val_mae: 0.0067\n",
      "Epoch 40/300\n",
      "\u001b[1m1213/1213\u001b[0m \u001b[32m━━━━━━━━━━━━━━━━━━━━\u001b[0m\u001b[37m\u001b[0m \u001b[1m9s\u001b[0m 7ms/step - loss: 4.7259e-04 - mae: 0.0119 - val_loss: 3.3413e-04 - val_mae: 0.0072\n",
      "Epoch 41/300\n",
      "\u001b[1m1213/1213\u001b[0m \u001b[32m━━━━━━━━━━━━━━━━━━━━\u001b[0m\u001b[37m\u001b[0m \u001b[1m9s\u001b[0m 8ms/step - loss: 4.8827e-04 - mae: 0.0117 - val_loss: 3.5245e-04 - val_mae: 0.0088\n",
      "Epoch 42/300\n",
      "\u001b[1m1213/1213\u001b[0m \u001b[32m━━━━━━━━━━━━━━━━━━━━\u001b[0m\u001b[37m\u001b[0m \u001b[1m10s\u001b[0m 8ms/step - loss: 4.5154e-04 - mae: 0.0118 - val_loss: 3.3735e-04 - val_mae: 0.0074\n",
      "Epoch 43/300\n",
      "\u001b[1m1213/1213\u001b[0m \u001b[32m━━━━━━━━━━━━━━━━━━━━\u001b[0m\u001b[37m\u001b[0m \u001b[1m9s\u001b[0m 8ms/step - loss: 4.8117e-04 - mae: 0.0117 - val_loss: 3.6445e-04 - val_mae: 0.0089\n",
      "Epoch 44/300\n",
      "\u001b[1m1213/1213\u001b[0m \u001b[32m━━━━━━━━━━━━━━━━━━━━\u001b[0m\u001b[37m\u001b[0m \u001b[1m9s\u001b[0m 7ms/step - loss: 5.0680e-04 - mae: 0.0118 - val_loss: 3.3366e-04 - val_mae: 0.0078\n",
      "Epoch 45/300\n",
      "\u001b[1m1213/1213\u001b[0m \u001b[32m━━━━━━━━━━━━━━━━━━━━\u001b[0m\u001b[37m\u001b[0m \u001b[1m9s\u001b[0m 8ms/step - loss: 4.6914e-04 - mae: 0.0115 - val_loss: 3.6789e-04 - val_mae: 0.0077\n",
      "Epoch 46/300\n",
      "\u001b[1m1213/1213\u001b[0m \u001b[32m━━━━━━━━━━━━━━━━━━━━\u001b[0m\u001b[37m\u001b[0m \u001b[1m11s\u001b[0m 9ms/step - loss: 4.5965e-04 - mae: 0.0115 - val_loss: 3.5779e-04 - val_mae: 0.0084\n",
      "Epoch 47/300\n",
      "\u001b[1m1213/1213\u001b[0m \u001b[32m━━━━━━━━━━━━━━━━━━━━\u001b[0m\u001b[37m\u001b[0m \u001b[1m10s\u001b[0m 8ms/step - loss: 4.4831e-04 - mae: 0.0113 - val_loss: 3.4245e-04 - val_mae: 0.0069\n",
      "Epoch 48/300\n",
      "\u001b[1m1213/1213\u001b[0m \u001b[32m━━━━━━━━━━━━━━━━━━━━\u001b[0m\u001b[37m\u001b[0m \u001b[1m9s\u001b[0m 7ms/step - loss: 4.8746e-04 - mae: 0.0115 - val_loss: 3.2299e-04 - val_mae: 0.0065\n",
      "Epoch 49/300\n",
      "\u001b[1m1213/1213\u001b[0m \u001b[32m━━━━━━━━━━━━━━━━━━━━\u001b[0m\u001b[37m\u001b[0m \u001b[1m9s\u001b[0m 7ms/step - loss: 4.9865e-04 - mae: 0.0116 - val_loss: 3.3574e-04 - val_mae: 0.0079\n",
      "\u001b[1m156/156\u001b[0m \u001b[32m━━━━━━━━━━━━━━━━━━━━\u001b[0m\u001b[37m\u001b[0m \u001b[1m1s\u001b[0m 5ms/step\n"
     ]
    },
    {
     "data": {
      "image/png": "[encoded data removed]",
      "text/plain": [
       "<Figure size 1000x400 with 1 Axes>"
      ]
     },
     "metadata": {},
     "output_type": "display_data"
    },
    {
     "data": {
      "image/png": "[encoded data removed]",
      "text/plain": [
       "<Figure size 1000x400 with 1 Axes>"
      ]
     },
     "metadata": {},
     "output_type": "display_data"
    },
    {
     "data": {
      "image/png": "[encoded data removed]",
      "text/plain": [
       "<Figure size 1000x400 with 1 Axes>"
      ]
     },
     "metadata": {},
     "output_type": "display_data"
    },
    {
     "data": {
      "image/png": "[encoded data removed]",
      "text/plain": [
       "<Figure size 1000x400 with 1 Axes>"
      ]
     },
     "metadata": {},
     "output_type": "display_data"
    },
    {
     "data": {
      "text/plain": [
       "<keras.src.callbacks.history.History at 0x2843512cd60>"
      ]
     },
     "execution_count": 21,
     "metadata": {},
     "output_type": "execute_result"
    }
   ],
   "source": [
    "trainer = ClusterNARXTrainer(batch_clustering=bc, cluster_id=0)\n",
    "trainer.run()"
   ]
  },
  {
   "cell_type": "code",
   "execution_count": 22,
   "id": "4dee250e-e7cb-4ef0-bc28-79a94e94e116",
   "metadata": {},
   "outputs": [
    {
     "name": "stdout",
     "output_type": "stream",
     "text": [
      "Nach Outlier-Filter: 85 Batches\n"
     ]
    }
   ],
   "source": [
    "print(f\"Nach Outlier-Filter: {len(bc.clean_features)} Batches\")\n"
   ]
  },
  {
   "cell_type": "code",
   "execution_count": null,
   "id": "2f9002c9-5b34-43db-94f2-570882ad66e4",
   "metadata": {},
   "outputs": [],
   "source": []
  }
 ],
 "metadata": {
  "kernelspec": {
   "display_name": "Python 3 (ipykernel)",
   "language": "python",
   "name": "python3"
  },
  "language_info": {
   "codemirror_mode": {
    "name": "ipython",
    "version": 3
   },
   "file_extension": ".py",
   "mimetype": "text/x-python",
   "name": "python",
   "nbconvert_exporter": "python",
   "pygments_lexer": "ipython3",
   "version": "3.9.15"
  }
 },
 "nbformat": 4,
 "nbformat_minor": 5
}
